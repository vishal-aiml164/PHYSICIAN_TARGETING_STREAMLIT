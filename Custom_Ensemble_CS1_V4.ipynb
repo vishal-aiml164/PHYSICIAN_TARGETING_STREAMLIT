{
 "cells": [
  {
   "cell_type": "markdown",
   "metadata": {
    "id": "n2_OIfx7lRe7"
   },
   "source": [
    "# This Notebook contains the custom ensemble models built to improve the performance of the overall system\n",
    "\n",
    "\n",
    "**SET 1 Dataset :**\n",
    "- All features \n",
    "- Used 4000 records as sample data sets and trained on multiple based models(Decision Trees) - sampling with replacement\n",
    "- Build a metamodel(XGBOOST) and train on it, and use the test data for performance measurement\n",
    "- Used 8000 records as sample datasets to pass through base models.\n",
    "- Used 2000 records as sample datasets to pass through base models.\n",
    "- Used 1000 records as sample datasets to pass through base models.\n",
    "- Used LGBM Model for the same setup of 4000 records as sample dataset\n",
    "- Used LGBM Model for the same setup of 8000 records as sample dataset\n",
    "- Used LGBM Model for the same setup of 2000 records as sample dataset\n",
    "- Used LGBM Model for the same setup of 1000 records as sample dataset\n",
    "\n",
    "**SET 2 Dataset :**\n",
    "- Important Selected features \n",
    "- Used 4000 records as sample data sets and trained on multiple based models(Decision Trees) - sampling with replacement\n",
    "- Build a metamodel(LGBM) and train on it, and use the test data for performance measurement\n",
    "- Used LGBM Model for the same setup of 8000 records as sample dataset\n",
    "- Used LGBM Model for the same setup of 2000 records as sample dataset\n",
    "- Used LGBM Model for the same setup of 1000 records as sample dataset\n",
    "\n",
    "**FINAL CONCLUSION :**\n",
    "- Summary of all the custom ensemble models performance"
   ]
  },
  {
   "cell_type": "markdown",
   "metadata": {
    "id": "CjHcXwNzpmjN"
   },
   "source": [
    "# Required Libraries"
   ]
  },
  {
   "cell_type": "code",
   "execution_count": 2,
   "metadata": {
    "id": "BbOvpPCElSEh"
   },
   "outputs": [
    {
     "name": "stderr",
     "output_type": "stream",
     "text": [
      "Matplotlib is building the font cache; this may take a moment.\n"
     ]
    },
    {
     "ename": "ModuleNotFoundError",
     "evalue": "No module named 'sklearn.metrics.classification'",
     "output_type": "error",
     "traceback": [
      "\u001b[1;31m---------------------------------------------------------------------------\u001b[0m",
      "\u001b[1;31mModuleNotFoundError\u001b[0m                       Traceback (most recent call last)",
      "\u001b[1;32m<ipython-input-2-de917a6790f3>\u001b[0m in \u001b[0;36m<module>\u001b[1;34m\u001b[0m\n\u001b[0;32m     12\u001b[0m \u001b[1;32mfrom\u001b[0m \u001b[0msklearn\u001b[0m\u001b[1;33m.\u001b[0m\u001b[0mneighbors\u001b[0m \u001b[1;32mimport\u001b[0m \u001b[0mKNeighborsClassifier\u001b[0m\u001b[1;33m\u001b[0m\u001b[1;33m\u001b[0m\u001b[0m\n\u001b[0;32m     13\u001b[0m \u001b[1;32mfrom\u001b[0m \u001b[0msklearn\u001b[0m\u001b[1;33m.\u001b[0m\u001b[0mmetrics\u001b[0m \u001b[1;32mimport\u001b[0m \u001b[0mconfusion_matrix\u001b[0m\u001b[1;33m\u001b[0m\u001b[1;33m\u001b[0m\u001b[0m\n\u001b[1;32m---> 14\u001b[1;33m \u001b[1;32mfrom\u001b[0m \u001b[0msklearn\u001b[0m\u001b[1;33m.\u001b[0m\u001b[0mmetrics\u001b[0m\u001b[1;33m.\u001b[0m\u001b[0mclassification\u001b[0m \u001b[1;32mimport\u001b[0m \u001b[0maccuracy_score\u001b[0m\u001b[1;33m,\u001b[0m \u001b[0mlog_loss\u001b[0m\u001b[1;33m\u001b[0m\u001b[1;33m\u001b[0m\u001b[0m\n\u001b[0m\u001b[0;32m     15\u001b[0m \u001b[1;32mfrom\u001b[0m \u001b[0msklearn\u001b[0m\u001b[1;33m.\u001b[0m\u001b[0mmetrics\u001b[0m \u001b[1;32mimport\u001b[0m \u001b[0mrecall_score\u001b[0m\u001b[1;33m\u001b[0m\u001b[1;33m\u001b[0m\u001b[0m\n\u001b[0;32m     16\u001b[0m \u001b[1;32mfrom\u001b[0m \u001b[0msklearn\u001b[0m \u001b[1;32mimport\u001b[0m \u001b[0mmetrics\u001b[0m\u001b[1;33m\u001b[0m\u001b[1;33m\u001b[0m\u001b[0m\n",
      "\u001b[1;31mModuleNotFoundError\u001b[0m: No module named 'sklearn.metrics.classification'"
     ]
    }
   ],
   "source": [
    "import os\n",
    "import pandas as pd\n",
    "import seaborn as sns\n",
    "import matplotlib.pyplot as plt\n",
    "import numpy as np\n",
    "import time\n",
    "import warnings\n",
    "\n",
    "from sklearn.preprocessing import normalize\n",
    "from sklearn.feature_extraction.text import CountVectorizer\n",
    "import seaborn as sns\n",
    "from sklearn.neighbors import KNeighborsClassifier\n",
    "from sklearn.metrics import confusion_matrix\n",
    "from sklearn.metrics.classification import accuracy_score, log_loss\n",
    "from sklearn.metrics import recall_score\n",
    "from sklearn import metrics\n",
    "from sklearn.metrics import roc_curve, auc\n",
    "# Tutorial about Python regular expressions: https://pymotw.com/2/re/\n",
    "from tqdm import tqdm\n",
    "from sklearn.linear_model import SGDClassifier\n",
    "from imblearn.over_sampling import SMOTE\n",
    "from collections import Counter\n",
    "from scipy.sparse import hstack\n",
    "from sklearn.multiclass import OneVsRestClassifier\n",
    "from sklearn.svm import SVC\n",
    "from sklearn.model_selection import StratifiedKFold \n",
    "from collections import Counter, defaultdict\n",
    "from sklearn.calibration import CalibratedClassifierCV\n",
    "from sklearn.naive_bayes import MultinomialNB\n",
    "from sklearn.naive_bayes import GaussianNB\n",
    "from sklearn.model_selection import train_test_split\n",
    "from sklearn.model_selection import GridSearchCV\n",
    "import math\n",
    "from sklearn.metrics import normalized_mutual_info_score\n",
    "from sklearn.ensemble import RandomForestClassifier\n",
    "from sklearn.tree import DecisionTreeClassifier\n",
    "warnings.filterwarnings(\"ignore\")\n",
    "\n",
    "from mlxtend.classifier import StackingClassifier\n",
    "\n",
    "from sklearn import model_selection\n",
    "from sklearn.linear_model import LogisticRegression\n",
    "\n",
    "import matplotlib.pyplot as plt\n",
    "%matplotlib inline\n",
    "plt.style.use('seaborn-whitegrid')\n",
    "\n",
    "from IPython.core.interactiveshell import InteractiveShell\n",
    "InteractiveShell.ast_node_interactivity = \"all\"\n",
    "\n",
    "pd.set_option('display.max_colwidth', -1)\n",
    "\n",
    "import warnings\n",
    "warnings.simplefilter('ignore')\n",
    "from tqdm import tqdm\n",
    "from statsmodels.stats.outliers_influence import variance_inflation_factor\n",
    "from sklearn.preprocessing import MinMaxScaler\n",
    "\n",
    "from sklearn.metrics import auc\n",
    "from sklearn.metrics import roc_curve\n",
    "from sklearn.metrics import roc_auc_score\n",
    "from sklearn.metrics import accuracy_score\n",
    "from sklearn.metrics import classification_report\n",
    "from sklearn.metrics import precision_recall_curve\n",
    "from sklearn.metrics import precision_score\n",
    "from sklearn.metrics import recall_score\n",
    "from sklearn.metrics import f1_score\n",
    "from sklearn.metrics import classification_report\n",
    "from sklearn.metrics import confusion_matrix\n",
    "\n",
    "from sklearn.model_selection import RandomizedSearchCV\n",
    "from sklearn.model_selection import GridSearchCV\n",
    "\n",
    "import xgboost as xgb\n",
    "from xgboost import XGBClassifier\n",
    "\n",
    "import lightgbm as lgb\n",
    "from lightgbm import LGBMModel,LGBMClassifier\n",
    "from sklearn import metrics\n",
    "from sklearn.metrics import fbeta_score, make_scorer\n",
    "\n",
    "import warnings\n",
    "warnings.filterwarnings('ignore')\n",
    "\n",
    "\n",
    "from tensorflow.keras.models import Model\n",
    "from tensorflow.keras.layers import Input\n",
    "from tensorflow.keras.layers import Dense\n",
    "from tensorflow.keras.layers import LeakyReLU\n",
    "from tensorflow.keras.layers import BatchNormalization\n",
    "from tensorflow.keras.utils import plot_model\n",
    "from tensorflow.keras.models import load_model\n",
    "from datetime import datetime "
   ]
  },
  {
   "cell_type": "code",
   "execution_count": null,
   "metadata": {
    "id": "i8E157vblSHJ"
   },
   "outputs": [],
   "source": [
    "from google.colab import files\n",
    "files.upload()"
   ]
  },
  {
   "cell_type": "code",
   "execution_count": 6,
   "metadata": {
    "colab": {
     "base_uri": "https://localhost:8080/"
    },
    "id": "G4FiM0etqYtO",
    "outputId": "fd1301bf-499a-4a8f-9433-f80c0884d48c"
   },
   "outputs": [
    {
     "name": "stdout",
     "output_type": "stream",
     "text": [
      "Archive:  Drug_Marketing1.zip\n",
      "  inflating: Drug_Marketing1/Drug_Marketing1/all_data_new.csv  \n"
     ]
    }
   ],
   "source": [
    "!unzip Drug_Marketing1.zip -d Drug_Marketing1"
   ]
  },
  {
   "cell_type": "code",
   "execution_count": 7,
   "metadata": {
    "colab": {
     "base_uri": "https://localhost:8080/"
    },
    "id": "V6Sk9V2wqYwe",
    "outputId": "824daa3b-f799-4980-92b6-fde4b0f8fcf2"
   },
   "outputs": [
    {
     "name": "stdout",
     "output_type": "stream",
     "text": [
      "cwd: /content/Drug_Marketing1/Drug_Marketing1\n"
     ]
    }
   ],
   "source": [
    "os.chdir('/content/Drug_Marketing1/Drug_Marketing1')\n",
    "cwd=os.getcwd()\n",
    "print(\"cwd:\",cwd)"
   ]
  },
  {
   "cell_type": "code",
   "execution_count": 6,
   "metadata": {
    "id": "xqWh4CTZqYzY"
   },
   "outputs": [],
   "source": [
    "all_data_new=pd.read_csv('/content/Drug_Marketing1/Drug_Marketing1/all_data_new.csv')\n",
    "#print (all_data_new.head())"
   ]
  },
  {
   "cell_type": "code",
   "execution_count": 7,
   "metadata": {
    "colab": {
     "base_uri": "https://localhost:8080/",
     "height": 218
    },
    "id": "D8Gv6oGlqj4w",
    "outputId": "d80197f3-5f02-4f44-bb3d-c57ad1882ba6"
   },
   "outputs": [
    {
     "data": {
      "text/html": [
       "<div>\n",
       "<style scoped>\n",
       "    .dataframe tbody tr th:only-of-type {\n",
       "        vertical-align: middle;\n",
       "    }\n",
       "\n",
       "    .dataframe tbody tr th {\n",
       "        vertical-align: top;\n",
       "    }\n",
       "\n",
       "    .dataframe thead th {\n",
       "        text-align: right;\n",
       "    }\n",
       "</style>\n",
       "<table border=\"1\" class=\"dataframe\">\n",
       "  <thead>\n",
       "    <tr style=\"text-align: right;\">\n",
       "      <th></th>\n",
       "      <th>year_quarter</th>\n",
       "      <th>brand_prescribed</th>\n",
       "      <th>total_representative_visits</th>\n",
       "      <th>total_sample_dropped</th>\n",
       "      <th>saving_cards_dropped</th>\n",
       "      <th>vouchers_dropped</th>\n",
       "      <th>total_seminar_as_attendee</th>\n",
       "      <th>total_seminar_as_speaker</th>\n",
       "      <th>physician_hospital_affiliation</th>\n",
       "      <th>physician_in_group_practice</th>\n",
       "      <th>total_prescriptions_for_indication1</th>\n",
       "      <th>total_prescriptions_for_indication2</th>\n",
       "      <th>total_prescriptions_for_indication3</th>\n",
       "      <th>total_patient_with_commercial_insurance_plan</th>\n",
       "      <th>total_patient_with_medicare_insurance_plan</th>\n",
       "      <th>total_patient_with_medicaid_insurance_plan</th>\n",
       "      <th>brand_web_impressions</th>\n",
       "      <th>brand_ehr_impressions</th>\n",
       "      <th>brand_enews_impressions</th>\n",
       "      <th>brand_mobile_impressions</th>\n",
       "      <th>brand_organic_web_visits</th>\n",
       "      <th>brand_paidsearch_visits</th>\n",
       "      <th>total_competitor_prescription</th>\n",
       "      <th>new_prescriptions</th>\n",
       "      <th>urban_population_perc_in_physician_locality</th>\n",
       "      <th>percent_population_with_health_insurance_in_last10q</th>\n",
       "      <th>physician_gender</th>\n",
       "      <th>physician_tenure</th>\n",
       "      <th>physician_age</th>\n",
       "      <th>physician_speciality</th>\n",
       "      <th>physician_segment_ordinal</th>\n",
       "    </tr>\n",
       "  </thead>\n",
       "  <tbody>\n",
       "    <tr>\n",
       "      <th>0</th>\n",
       "      <td>201903-Q3</td>\n",
       "      <td>1</td>\n",
       "      <td>9</td>\n",
       "      <td>39</td>\n",
       "      <td>0</td>\n",
       "      <td>0</td>\n",
       "      <td>1</td>\n",
       "      <td>0</td>\n",
       "      <td>0</td>\n",
       "      <td>1</td>\n",
       "      <td>46</td>\n",
       "      <td>20</td>\n",
       "      <td>28</td>\n",
       "      <td>28</td>\n",
       "      <td>76</td>\n",
       "      <td>28</td>\n",
       "      <td>2</td>\n",
       "      <td>0</td>\n",
       "      <td>1</td>\n",
       "      <td>1</td>\n",
       "      <td>1</td>\n",
       "      <td>1</td>\n",
       "      <td>165</td>\n",
       "      <td>42</td>\n",
       "      <td>0.91</td>\n",
       "      <td>0.89</td>\n",
       "      <td>M</td>\n",
       "      <td>58</td>\n",
       "      <td>83</td>\n",
       "      <td>nephrology</td>\n",
       "      <td>3</td>\n",
       "    </tr>\n",
       "    <tr>\n",
       "      <th>1</th>\n",
       "      <td>201904-Q4</td>\n",
       "      <td>1</td>\n",
       "      <td>4</td>\n",
       "      <td>12</td>\n",
       "      <td>0</td>\n",
       "      <td>0</td>\n",
       "      <td>0</td>\n",
       "      <td>0</td>\n",
       "      <td>0</td>\n",
       "      <td>1</td>\n",
       "      <td>43</td>\n",
       "      <td>18</td>\n",
       "      <td>32</td>\n",
       "      <td>22</td>\n",
       "      <td>72</td>\n",
       "      <td>36</td>\n",
       "      <td>1</td>\n",
       "      <td>1</td>\n",
       "      <td>1</td>\n",
       "      <td>1</td>\n",
       "      <td>1</td>\n",
       "      <td>1</td>\n",
       "      <td>169</td>\n",
       "      <td>45</td>\n",
       "      <td>0.91</td>\n",
       "      <td>0.89</td>\n",
       "      <td>M</td>\n",
       "      <td>58</td>\n",
       "      <td>83</td>\n",
       "      <td>nephrology</td>\n",
       "      <td>3</td>\n",
       "    </tr>\n",
       "    <tr>\n",
       "      <th>2</th>\n",
       "      <td>202001-Q1</td>\n",
       "      <td>1</td>\n",
       "      <td>14</td>\n",
       "      <td>26</td>\n",
       "      <td>0</td>\n",
       "      <td>0</td>\n",
       "      <td>1</td>\n",
       "      <td>0</td>\n",
       "      <td>0</td>\n",
       "      <td>1</td>\n",
       "      <td>53</td>\n",
       "      <td>17</td>\n",
       "      <td>37</td>\n",
       "      <td>33</td>\n",
       "      <td>80</td>\n",
       "      <td>33</td>\n",
       "      <td>4</td>\n",
       "      <td>1</td>\n",
       "      <td>0</td>\n",
       "      <td>0</td>\n",
       "      <td>1</td>\n",
       "      <td>1</td>\n",
       "      <td>198</td>\n",
       "      <td>49</td>\n",
       "      <td>0.91</td>\n",
       "      <td>0.89</td>\n",
       "      <td>M</td>\n",
       "      <td>58</td>\n",
       "      <td>83</td>\n",
       "      <td>nephrology</td>\n",
       "      <td>3</td>\n",
       "    </tr>\n",
       "    <tr>\n",
       "      <th>3</th>\n",
       "      <td>202002-Q2</td>\n",
       "      <td>1</td>\n",
       "      <td>18</td>\n",
       "      <td>20</td>\n",
       "      <td>0</td>\n",
       "      <td>0</td>\n",
       "      <td>1</td>\n",
       "      <td>0</td>\n",
       "      <td>0</td>\n",
       "      <td>1</td>\n",
       "      <td>45</td>\n",
       "      <td>19</td>\n",
       "      <td>38</td>\n",
       "      <td>38</td>\n",
       "      <td>67</td>\n",
       "      <td>28</td>\n",
       "      <td>7</td>\n",
       "      <td>1</td>\n",
       "      <td>0</td>\n",
       "      <td>0</td>\n",
       "      <td>1</td>\n",
       "      <td>1</td>\n",
       "      <td>170</td>\n",
       "      <td>46</td>\n",
       "      <td>0.91</td>\n",
       "      <td>0.89</td>\n",
       "      <td>M</td>\n",
       "      <td>58</td>\n",
       "      <td>83</td>\n",
       "      <td>nephrology</td>\n",
       "      <td>3</td>\n",
       "    </tr>\n",
       "    <tr>\n",
       "      <th>4</th>\n",
       "      <td>202003-Q3</td>\n",
       "      <td>1</td>\n",
       "      <td>5</td>\n",
       "      <td>96</td>\n",
       "      <td>0</td>\n",
       "      <td>0</td>\n",
       "      <td>0</td>\n",
       "      <td>0</td>\n",
       "      <td>0</td>\n",
       "      <td>1</td>\n",
       "      <td>48</td>\n",
       "      <td>25</td>\n",
       "      <td>40</td>\n",
       "      <td>35</td>\n",
       "      <td>75</td>\n",
       "      <td>31</td>\n",
       "      <td>7</td>\n",
       "      <td>1</td>\n",
       "      <td>0</td>\n",
       "      <td>0</td>\n",
       "      <td>0</td>\n",
       "      <td>1</td>\n",
       "      <td>169</td>\n",
       "      <td>0</td>\n",
       "      <td>0.91</td>\n",
       "      <td>0.89</td>\n",
       "      <td>M</td>\n",
       "      <td>58</td>\n",
       "      <td>83</td>\n",
       "      <td>nephrology</td>\n",
       "      <td>2</td>\n",
       "    </tr>\n",
       "  </tbody>\n",
       "</table>\n",
       "</div>"
      ],
      "text/plain": [
       "  year_quarter  ...  physician_segment_ordinal\n",
       "0  201903-Q3    ...  3                        \n",
       "1  201904-Q4    ...  3                        \n",
       "2  202001-Q1    ...  3                        \n",
       "3  202002-Q2    ...  3                        \n",
       "4  202003-Q3    ...  2                        \n",
       "\n",
       "[5 rows x 31 columns]"
      ]
     },
     "execution_count": 7,
     "metadata": {
      "tags": []
     },
     "output_type": "execute_result"
    }
   ],
   "source": [
    "all_data_new.head(5)"
   ]
  },
  {
   "cell_type": "markdown",
   "metadata": {
    "id": "Whr3w6R2qorQ"
   },
   "source": [
    "# TRAIN TEST SPLIT (80:20)"
   ]
  },
  {
   "cell_type": "code",
   "execution_count": 8,
   "metadata": {
    "id": "GhHUAKiJqpqU"
   },
   "outputs": [],
   "source": [
    "CLASS_LABEL ='physician_segment_ordinal'"
   ]
  },
  {
   "cell_type": "code",
   "execution_count": 9,
   "metadata": {
    "colab": {
     "base_uri": "https://localhost:8080/"
    },
    "id": "FyNoqg8Hqp6N",
    "outputId": "de4c480a-f212-44c7-889b-de0480b0d575"
   },
   "outputs": [
    {
     "name": "stdout",
     "output_type": "stream",
     "text": [
      "\n",
      "Total Dataset contains 48703 samples and 31 variables\n",
      "\n",
      "The dataset contains 30 features and 1 CLASS LABEL\n"
     ]
    }
   ],
   "source": [
    "print(f'\\nTotal Dataset contains {all_data_new.shape[0]} samples and {all_data_new.shape[1]} variables')\n",
    "features = [c for c in all_data_new.columns if c not in [CLASS_LABEL]]\n",
    "print(f'\\nThe dataset contains {len(features)} features and 1 CLASS LABEL')"
   ]
  },
  {
   "cell_type": "code",
   "execution_count": 10,
   "metadata": {
    "id": "MKhm55RGqp8o"
   },
   "outputs": [],
   "source": [
    "category_cols= ['physician_gender', 'physician_speciality', 'year_quarter']"
   ]
  },
  {
   "cell_type": "code",
   "execution_count": 11,
   "metadata": {
    "colab": {
     "base_uri": "https://localhost:8080/"
    },
    "id": "_AqrINvFquyY",
    "outputId": "60f80ae6-92a5-49cf-cb1a-09a54d803802"
   },
   "outputs": [
    {
     "data": {
      "text/plain": [
       "['brand_prescribed',\n",
       " 'total_representative_visits',\n",
       " 'total_sample_dropped',\n",
       " 'saving_cards_dropped',\n",
       " 'vouchers_dropped',\n",
       " 'total_seminar_as_attendee',\n",
       " 'total_seminar_as_speaker',\n",
       " 'physician_hospital_affiliation',\n",
       " 'physician_in_group_practice',\n",
       " 'total_prescriptions_for_indication1',\n",
       " 'total_prescriptions_for_indication2',\n",
       " 'total_prescriptions_for_indication3',\n",
       " 'total_patient_with_commercial_insurance_plan',\n",
       " 'total_patient_with_medicare_insurance_plan',\n",
       " 'total_patient_with_medicaid_insurance_plan',\n",
       " 'brand_web_impressions',\n",
       " 'brand_ehr_impressions',\n",
       " 'brand_enews_impressions',\n",
       " 'brand_mobile_impressions',\n",
       " 'brand_organic_web_visits',\n",
       " 'brand_paidsearch_visits',\n",
       " 'total_competitor_prescription',\n",
       " 'new_prescriptions',\n",
       " 'urban_population_perc_in_physician_locality',\n",
       " 'percent_population_with_health_insurance_in_last10q',\n",
       " 'physician_tenure',\n",
       " 'physician_age']"
      ]
     },
     "execution_count": 11,
     "metadata": {
      "tags": []
     },
     "output_type": "execute_result"
    }
   ],
   "source": [
    "numerical_cols = [c for c in features if c not in category_cols]\n",
    "#numerical_cols.remove('physician_id')\n",
    "numerical_cols"
   ]
  },
  {
   "cell_type": "code",
   "execution_count": 12,
   "metadata": {
    "id": "WaWrK0llrdY_"
   },
   "outputs": [],
   "source": [
    "all_data_new = pd.get_dummies(all_data_new, columns = category_cols)"
   ]
  },
  {
   "cell_type": "code",
   "execution_count": 13,
   "metadata": {
    "id": "KXxXboMZrdbx"
   },
   "outputs": [],
   "source": [
    "y_class = all_data_new[CLASS_LABEL]\n",
    "CLASS_LABEL ='physician_segment_ordinal'\n",
    "# split the data into test and train by maintaining same distribution of output varaible 'y_true' [stratify=y_true]\n",
    "X_train, X_test, y_train, y_test = train_test_split(all_data_new.drop(['physician_segment_ordinal'], axis=1), y_class,stratify=y_class,test_size=0.20)\n",
    "# split the train data into train and cross validation by maintaining same distribution of output varaible 'y_train' [stratify=y_train]\n",
    "#X_train, X_cv, y_train, y_cv = train_test_split(X_train, y_train,stratify=y_train,test_size=0.20)"
   ]
  },
  {
   "cell_type": "markdown",
   "metadata": {
    "id": "J0l_2-nDw-Gj"
   },
   "source": [
    "# Splitting Train into D1 and D2 (50:50)"
   ]
  },
  {
   "cell_type": "code",
   "execution_count": 14,
   "metadata": {
    "id": "ozbFYoemw9ZB"
   },
   "outputs": [],
   "source": [
    "X_train_D1, X_train_D2, y_train_D1, y_train_D2 = train_test_split(X_train, y_train,stratify=y_train,test_size=0.50)\n"
   ]
  },
  {
   "cell_type": "code",
   "execution_count": 15,
   "metadata": {
    "colab": {
     "base_uri": "https://localhost:8080/"
    },
    "id": "FhRDdTK8xWfW",
    "outputId": "11328ece-f11c-4b10-ffe5-bc8fbc701928"
   },
   "outputs": [
    {
     "name": "stdout",
     "output_type": "stream",
     "text": [
      "Number of data points in train data D1: 19481\n",
      "Number of data points in train data D2: 19481\n",
      "Number of data points in test data: 9741\n"
     ]
    }
   ],
   "source": [
    "print('Number of data points in train data D1:', X_train_D1.shape[0])\n",
    "print('Number of data points in train data D2:', X_train_D2.shape[0])\n",
    "print('Number of data points in test data:', X_test.shape[0])"
   ]
  },
  {
   "cell_type": "code",
   "execution_count": 16,
   "metadata": {
    "id": "AalTmdRPrddn"
   },
   "outputs": [],
   "source": [
    "features = numerical_cols\n",
    "autoscaler = MinMaxScaler()\n",
    "#autoscaler = StandardScaler()\n",
    "X_train_D1[features] = autoscaler.fit_transform(X_train_D1[features])"
   ]
  },
  {
   "cell_type": "code",
   "execution_count": 17,
   "metadata": {
    "id": "SLBWl83Brdf4"
   },
   "outputs": [],
   "source": [
    "#X_cv[features] = autoscaler.transform(X_cv[features])\n",
    "X_train_D2[features] = autoscaler.transform(X_train_D2[features])"
   ]
  },
  {
   "cell_type": "code",
   "execution_count": 18,
   "metadata": {
    "id": "qSVFk_7Z4iJ0"
   },
   "outputs": [],
   "source": [
    "\n",
    "X_test[features] = autoscaler.transform(X_test[features])"
   ]
  },
  {
   "cell_type": "markdown",
   "metadata": {
    "id": "0FlTgZYEPxuv"
   },
   "source": [
    "# DATA DISTRIBUTION"
   ]
  },
  {
   "cell_type": "code",
   "execution_count": 19,
   "metadata": {
    "colab": {
     "base_uri": "https://localhost:8080/",
     "height": 1000
    },
    "id": "pVbkPQJQrien",
    "outputId": "4c858527-0f2d-47ef-9c46-3473b21111f1"
   },
   "outputs": [
    {
     "data": {
      "text/plain": [
       "<matplotlib.axes._subplots.AxesSubplot at 0x7f2afe4f17d0>"
      ]
     },
     "execution_count": 19,
     "metadata": {
      "tags": []
     },
     "output_type": "execute_result"
    },
    {
     "data": {
      "text/plain": [
       "Text(0.5, 0, 'Class')"
      ]
     },
     "execution_count": 19,
     "metadata": {
      "tags": []
     },
     "output_type": "execute_result"
    },
    {
     "data": {
      "text/plain": [
       "Text(0, 0.5, 'Data points per Class')"
      ]
     },
     "execution_count": 19,
     "metadata": {
      "tags": []
     },
     "output_type": "execute_result"
    },
    {
     "data": {
      "text/plain": [
       "Text(0.5, 1.0, 'Distribution of yi in train data D1')"
      ]
     },
     "execution_count": 19,
     "metadata": {
      "tags": []
     },
     "output_type": "execute_result"
    },
    {
     "data": {
      "image/png": "[encoded data removed]",
      "text/plain": [
       "<Figure size 432x288 with 1 Axes>"
      ]
     },
     "metadata": {
      "tags": []
     },
     "output_type": "display_data"
    },
    {
     "name": "stdout",
     "output_type": "stream",
     "text": [
      "Number of data points in class 3 : 7481 ( 38.402 %)\n",
      "Number of data points in class 4 : 6332 ( 32.503 %)\n",
      "Number of data points in class 2 : 3666 ( 18.818 %)\n",
      "Number of data points in class 1 : 2002 ( 10.277 %)\n"
     ]
    },
    {
     "data": {
      "text/plain": [
       "<matplotlib.axes._subplots.AxesSubplot at 0x7f2afe791850>"
      ]
     },
     "execution_count": 19,
     "metadata": {
      "tags": []
     },
     "output_type": "execute_result"
    },
    {
     "data": {
      "text/plain": [
       "Text(0.5, 0, 'Class')"
      ]
     },
     "execution_count": 19,
     "metadata": {
      "tags": []
     },
     "output_type": "execute_result"
    },
    {
     "data": {
      "text/plain": [
       "Text(0, 0.5, 'Data points per Class')"
      ]
     },
     "execution_count": 19,
     "metadata": {
      "tags": []
     },
     "output_type": "execute_result"
    },
    {
     "data": {
      "text/plain": [
       "Text(0.5, 1.0, 'Distribution of yi in train data D2')"
      ]
     },
     "execution_count": 19,
     "metadata": {
      "tags": []
     },
     "output_type": "execute_result"
    },
    {
     "data": {
      "image/png": "[encoded data removed]",
      "text/plain": [
       "<Figure size 432x288 with 1 Axes>"
      ]
     },
     "metadata": {
      "tags": []
     },
     "output_type": "display_data"
    },
    {
     "name": "stdout",
     "output_type": "stream",
     "text": [
      "Number of data points in class 3 : 7480 ( 38.396 %)\n",
      "Number of data points in class 4 : 6333 ( 32.509 %)\n",
      "Number of data points in class 2 : 3666 ( 18.818 %)\n",
      "Number of data points in class 1 : 2002 ( 10.277 %)\n",
      "--------------------------------------------------------------------------------\n"
     ]
    },
    {
     "data": {
      "text/plain": [
       "<matplotlib.axes._subplots.AxesSubplot at 0x7f2afe70d750>"
      ]
     },
     "execution_count": 19,
     "metadata": {
      "tags": []
     },
     "output_type": "execute_result"
    },
    {
     "data": {
      "text/plain": [
       "Text(0.5, 0, 'Class')"
      ]
     },
     "execution_count": 19,
     "metadata": {
      "tags": []
     },
     "output_type": "execute_result"
    },
    {
     "data": {
      "text/plain": [
       "Text(0, 0.5, 'Data points per Class')"
      ]
     },
     "execution_count": 19,
     "metadata": {
      "tags": []
     },
     "output_type": "execute_result"
    },
    {
     "data": {
      "text/plain": [
       "Text(0.5, 1.0, 'Distribution of yi in test data')"
      ]
     },
     "execution_count": 19,
     "metadata": {
      "tags": []
     },
     "output_type": "execute_result"
    },
    {
     "data": {
      "image/png": "[encoded data removed]",
      "text/plain": [
       "<Figure size 432x288 with 1 Axes>"
      ]
     },
     "metadata": {
      "tags": []
     },
     "output_type": "display_data"
    },
    {
     "name": "stdout",
     "output_type": "stream",
     "text": [
      "Number of data points in class 3 : 3741 ( 38.405 %)\n",
      "Number of data points in class 4 : 3166 ( 32.502 %)\n",
      "Number of data points in class 2 : 1833 ( 18.817 %)\n",
      "Number of data points in class 1 : 1001 ( 10.276 %)\n"
     ]
    }
   ],
   "source": [
    "# it returns a dict, keys as class labels and values as the number of data points in that class\n",
    "train_class_D1_distribution = y_train_D1.value_counts().sort_index()\n",
    "train_class_D2_distribution = y_train_D2.value_counts().sort_index()\n",
    "test_class_distribution = y_test.value_counts().sort_index()\n",
    "#cv_class_distribution = y_cv.value_counts().sort_index()\n",
    "\n",
    "my_colors = 'rgbkymc'\n",
    "train_class_D1_distribution.plot(kind='bar',color=['green', 'orange', 'blue', 'red'])\n",
    "plt.xlabel('Class')\n",
    "plt.ylabel('Data points per Class')\n",
    "plt.title('Distribution of yi in train data D1')\n",
    "plt.grid()\n",
    "plt.show()\n",
    "\n",
    "# ref: argsort https://docs.scipy.org/doc/numpy/reference/generated/numpy.argsort.html\n",
    "# -(train_class_distribution.values): the minus sign will give us in decreasing order\n",
    "sorted_yi = np.argsort(-train_class_D1_distribution.values)\n",
    "for i in sorted_yi:\n",
    "    print('Number of data points in class', i+1, ':',train_class_D1_distribution.values[i], '(', np.round((train_class_D1_distribution.values[i]/y_train_D1.shape[0]*100), 3), '%)')\n",
    "\n",
    "my_colors = 'rgbkymc'\n",
    "train_class_D2_distribution.plot(kind='bar',color=['green', 'orange', 'blue', 'red'])\n",
    "plt.xlabel('Class')\n",
    "plt.ylabel('Data points per Class')\n",
    "plt.title('Distribution of yi in train data D2')\n",
    "plt.grid()\n",
    "plt.show()\n",
    "\n",
    "# ref: argsort https://docs.scipy.org/doc/numpy/reference/generated/numpy.argsort.html\n",
    "# -(train_class_distribution.values): the minus sign will give us in decreasing order\n",
    "sorted_yi = np.argsort(-train_class_D2_distribution.values)\n",
    "for i in sorted_yi:\n",
    "    print('Number of data points in class', i+1, ':',train_class_D2_distribution.values[i], '(', np.round((train_class_D2_distribution.values[i]/y_train_D2.shape[0]*100), 3), '%)')\n",
    "\n",
    "    \n",
    "print('-'*80)\n",
    "my_colors = 'rgbkymc'\n",
    "test_class_distribution.plot(kind='bar',color=['green', 'orange', 'blue', 'red'])\n",
    "plt.xlabel('Class')\n",
    "plt.ylabel('Data points per Class')\n",
    "plt.title('Distribution of yi in test data')\n",
    "plt.grid()\n",
    "plt.show()\n",
    "\n",
    "# ref: argsort https://docs.scipy.org/doc/numpy/reference/generated/numpy.argsort.html\n",
    "# -(train_class_distribution.values): the minus sign will give us in decreasing order\n",
    "sorted_yi = np.argsort(-test_class_distribution.values)\n",
    "for i in sorted_yi:\n",
    "    print('Number of data points in class', i+1, ':',test_class_distribution.values[i], '(', np.round((test_class_distribution.values[i]/y_test.shape[0]*100), 3), '%)')\n",
    "\n"
   ]
  },
  {
   "cell_type": "code",
   "execution_count": 20,
   "metadata": {
    "id": "DT-UQMH9sX4-"
   },
   "outputs": [],
   "source": [
    "# Reference : Applied AI Course:\n",
    "\n",
    "def plot_confusion_matrix(test_y, predict_y):\n",
    "    C = confusion_matrix(test_y, predict_y)\n",
    "    print(\"Number of misclassified points \",(len(test_y)-np.trace(C))/len(test_y)*100)\n",
    "    # C = 9,9 matrix, each cell (i,j) represents number of points of class i are predicted class j\n",
    "    \n",
    "    A =(((C.T)/(C.sum(axis=1))).T)\n",
    "    #divid each element of the confusion matrix with the sum of elements in that column\n",
    "    \n",
    "    # C = [[1, 2],\n",
    "    #     [3, 4]]\n",
    "    # C.T = [[1, 3],\n",
    "    #        [2, 4]]\n",
    "    # C.sum(axis = 1)  axis=0 corresonds to columns and axis=1 corresponds to rows in two diamensional array\n",
    "    # C.sum(axix =1) = [[3, 7]]\n",
    "    # ((C.T)/(C.sum(axis=1))) = [[1/3, 3/7]\n",
    "    #                           [2/3, 4/7]]\n",
    "\n",
    "    # ((C.T)/(C.sum(axis=1))).T = [[1/3, 2/3]\n",
    "    #                           [3/7, 4/7]]\n",
    "    # sum of row elements = 1\n",
    "    \n",
    "    B =(C/C.sum(axis=0))\n",
    "    #divid each element of the confusion matrix with the sum of elements in that row\n",
    "    # C = [[1, 2],\n",
    "    #     [3, 4]]\n",
    "    # C.sum(axis = 0)  axis=0 corresonds to columns and axis=1 corresponds to rows in two diamensional array\n",
    "    # C.sum(axix =0) = [[4, 6]]\n",
    "    # (C/C.sum(axis=0)) = [[1/4, 2/6],\n",
    "    #                      [3/4, 4/6]] \n",
    "    \n",
    "    labels = [1,2,3,4]\n",
    "    cmap=sns.light_palette(\"green\")\n",
    "    # representing A in heatmap format\n",
    "    print(\"-\"*50, \"Confusion matrix\", \"-\"*50)\n",
    "    plt.figure(figsize=(10,5))\n",
    "    sns.heatmap(C, annot=True, cmap=cmap, fmt=\".3f\", xticklabels=labels, yticklabels=labels)\n",
    "    plt.xlabel('Predicted Class')\n",
    "    plt.ylabel('Original Class')\n",
    "    plt.show()\n",
    "\n",
    "    print(\"-\"*50, \"Precision matrix\", \"-\"*50)\n",
    "    plt.figure(figsize=(10,5))\n",
    "    sns.heatmap(B, annot=True, cmap=cmap, fmt=\".3f\", xticklabels=labels, yticklabels=labels)\n",
    "    plt.xlabel('Predicted Class')\n",
    "    plt.ylabel('Original Class')\n",
    "    plt.show()\n",
    "    print(\"Sum of columns in precision matrix\",B.sum(axis=0))\n",
    "    \n",
    "    # representing B in heatmap format\n",
    "    print(\"-\"*50, \"Recall matrix\"    , \"-\"*50)\n",
    "    plt.figure(figsize=(10,5))\n",
    "    sns.heatmap(A, annot=True, cmap=cmap, fmt=\".3f\", xticklabels=labels, yticklabels=labels)\n",
    "    plt.xlabel('Predicted Class')\n",
    "    plt.ylabel('Original Class')\n",
    "    plt.show()\n",
    "    print(\"Sum of rows in precision matrix\",A.sum(axis=1))"
   ]
  },
  {
   "cell_type": "markdown",
   "metadata": {
    "id": "dA-lIonDMXP-"
   },
   "source": [
    "# SET 1 DATASET AND ITS MODELING"
   ]
  },
  {
   "cell_type": "markdown",
   "metadata": {
    "id": "KHR9uy3ZzQX6"
   },
   "source": [
    "- CODE for Sampling with Replacement on D1 Dataset - with varying samples each time"
   ]
  },
  {
   "cell_type": "markdown",
   "metadata": {
    "id": "HQ6PON9f-pb8"
   },
   "source": [
    "# Hyper Parameter tuning XGBOOST Model(Sample Size 4000 records - sent to each base model)"
   ]
  },
  {
   "cell_type": "code",
   "execution_count": null,
   "metadata": {
    "colab": {
     "base_uri": "https://localhost:8080/"
    },
    "id": "kZbsHvwsTf1D",
    "outputId": "51aeaefa-207e-452f-c645-571b8f06cfdd"
   },
   "outputs": [
    {
     "name": "stderr",
     "output_type": "stream",
     "text": [
      "100%|██████████| 10/10 [44:16<00:00, 265.64s/it]\n"
     ]
    },
    {
     "data": {
      "text/plain": [
       "datetime.timedelta(seconds=2656, microseconds=443518)"
      ]
     },
     "execution_count": 82,
     "metadata": {
      "tags": []
     },
     "output_type": "execute_result"
    }
   ],
   "source": [
    "# n represents no of models to be trained\n",
    "import warnings\n",
    "warnings.filterwarnings('ignore')\n",
    "from IPython.display import clear_output \n",
    "from tqdm import tqdm\n",
    "from datetime import datetime \n",
    "start = datetime.now() \n",
    "n_models=[10,50,100,250,500,1000,1500,2000,2500,3000] \n",
    "# k represents no of samples to train against each models with replacement\n",
    "k_samples=4000\n",
    "train_log_loss_final=[]\n",
    "test_log_loss_final=[]\n",
    "for i in tqdm(range(len(n_models))):\n",
    "  #print('no of models now:',n_models[i])\n",
    "  #print('no of samples now:',k_samples)\n",
    "  meta_train_hstack=[]\n",
    "  meta_test_hstack=[]\n",
    "  y_train_D2_pred_list=[]\n",
    "  y_test_pred_list=[]\n",
    "  for j in range(1,n_models[i]+1):\n",
    "    #print('creating base model no:',j)\n",
    "    random_sample_cnt=k_samples\n",
    "    selected_rows = list(np.random.choice(len(X_train_D1), random_sample_cnt, replace=True))\n",
    "    #print(selected_rows)\n",
    "    X_train_D1_subset=X_train_D1.iloc[selected_rows,:]\n",
    "    y_train_D1_subset=y_train_D1.iloc[selected_rows]  \n",
    "    Model=DecisionTreeClassifier(max_depth=None,random_state = 0)\n",
    "    # parameterize later by selecting the dataset based on indexes\n",
    "    Model.fit(X_train_D1_subset,y_train_D1_subset)\n",
    "    y_train_D2_pred=Model.predict(X_train_D2)\n",
    "    y_test_pred=Model.predict(X_test)\n",
    "    #print(y_train_D2_pred)\n",
    "    #print(type(y_train_D2_pred))\n",
    "    y_train_D2_pred_list = y_train_D2_pred.tolist()\n",
    "    y_test_pred_list = y_test_pred.tolist()\n",
    "    #print(y_train_D2_pred_list)\n",
    "    #print(type(y_train_D2_pred_list))\n",
    "    #y_train_D2_pred.reshape(-1,1)\n",
    "    meta_train_hstack.append(y_train_D2_pred_list)\n",
    "    meta_test_hstack.append(y_test_pred_list)\n",
    "    #print('len of meta_train_hstack',meta_train_hstack)\n",
    "    #print('len of meta_test_hstack',meta_test_hstack)\n",
    "  meta_train_hstack_final = np.array(meta_train_hstack)\n",
    "  meta_train_hstack_final = meta_train_hstack_final.T\n",
    "  meta_train_hstack_df = pd.DataFrame(meta_train_hstack_final) \n",
    "  meta_test_hstack_final = np.array(meta_test_hstack)\n",
    "  meta_test_hstack_final = meta_test_hstack_final.T\n",
    "  meta_test_hstack_df = pd.DataFrame(meta_test_hstack_final)   \n",
    "  # Train meta model\n",
    "  meta_model = XGBClassifier(n_jobs=-1,eval_metric='mlogloss',objective='multi:softmax',num_class=4,random_state=25)\n",
    "  meta_model.fit(meta_train_hstack_df,y_train_D2)\n",
    "  meta_train_pred_proba=meta_model.predict_proba(meta_train_hstack_df)\n",
    "  # Predict via meta model\n",
    "  meta_test_pred=meta_model.predict(meta_test_hstack_df)\n",
    "  meta_test_pred_proba=meta_model.predict_proba(meta_test_hstack_df)\n",
    "  train_log_loss=log_loss(y_train_D2, meta_train_pred_proba)\n",
    "  test_log_loss=log_loss(y_test, meta_test_pred_proba)\n",
    "  #print('train_log_loss for models',i,' is :',train_log_loss)\n",
    "  #print('test_log_loss for models',i,' is :',test_log_loss)\n",
    "  train_log_loss_final.append(train_log_loss)\n",
    "  test_log_loss_final.append(test_log_loss)\n",
    "  if (n_models[i]%2) == 0:\n",
    "    clear_output()  \n",
    "stop = datetime.now()\n",
    "execution_time_lgb = stop-start \n",
    "execution_time_lgb    "
   ]
  },
  {
   "cell_type": "code",
   "execution_count": null,
   "metadata": {
    "colab": {
     "base_uri": "https://localhost:8080/",
     "height": 365
    },
    "id": "FJT1e4ngi6-u",
    "outputId": "53573d62-a990-4419-903d-e2d4bc2ad646"
   },
   "outputs": [
    {
     "data": {
      "text/plain": [
       "[<matplotlib.lines.Line2D at 0x7f24c51ee990>]"
      ]
     },
     "execution_count": 83,
     "metadata": {
      "tags": []
     },
     "output_type": "execute_result"
    },
    {
     "data": {
      "text/plain": [
       "[<matplotlib.lines.Line2D at 0x7f24c51ee910>]"
      ]
     },
     "execution_count": 83,
     "metadata": {
      "tags": []
     },
     "output_type": "execute_result"
    },
    {
     "data": {
      "text/plain": [
       "Text(0.5, 1.0, 'Comparison of all Train and Test Log loss - 4000 sample size')"
      ]
     },
     "execution_count": 83,
     "metadata": {
      "tags": []
     },
     "output_type": "execute_result"
    },
    {
     "data": {
      "text/plain": [
       "Text(0.5, 0, 'No of Models')"
      ]
     },
     "execution_count": 83,
     "metadata": {
      "tags": []
     },
     "output_type": "execute_result"
    },
    {
     "data": {
      "text/plain": [
       "Text(0, 0.5, 'Log Loss')"
      ]
     },
     "execution_count": 83,
     "metadata": {
      "tags": []
     },
     "output_type": "execute_result"
    },
    {
     "data": {
      "text/plain": [
       "<matplotlib.legend.Legend at 0x7f24c76af190>"
      ]
     },
     "execution_count": 83,
     "metadata": {
      "tags": []
     },
     "output_type": "execute_result"
    },
    {
     "data": {
      "image/png": "[encoded data removed]",
      "text/plain": [
       "<Figure size 432x288 with 1 Axes>"
      ]
     },
     "metadata": {
      "tags": []
     },
     "output_type": "display_data"
    }
   ],
   "source": [
    "plt.plot(n_models,train_log_loss_final,'g',label='train_log_loss')\n",
    "plt.plot(n_models,test_log_loss_final,'r',label='test_log_loss')\n",
    "plt.title('Comparison of all Train and Test Log loss - 4000 sample size')\n",
    "plt.xlabel('No of Models')\n",
    "plt.ylabel('Log Loss')\n",
    "plt.legend()\n",
    "plt.show()"
   ]
  },
  {
   "cell_type": "markdown",
   "metadata": {
    "id": "57WFKlzUoDLz"
   },
   "source": [
    "# Hyper Parameter tuning XGBOOST Model(Sample Size 8000 records - sent to each base model)"
   ]
  },
  {
   "cell_type": "code",
   "execution_count": null,
   "metadata": {
    "colab": {
     "base_uri": "https://localhost:8080/"
    },
    "id": "CMJAxh7qoCVP",
    "outputId": "cc6897d4-4ff9-4ac2-92e8-3bdaaf2eea9d"
   },
   "outputs": [
    {
     "name": "stderr",
     "output_type": "stream",
     "text": [
      "100%|██████████| 10/10 [57:21<00:00, 344.19s/it]\n"
     ]
    },
    {
     "data": {
      "text/plain": [
       "datetime.timedelta(seconds=3441, microseconds=891547)"
      ]
     },
     "execution_count": 84,
     "metadata": {
      "tags": []
     },
     "output_type": "execute_result"
    }
   ],
   "source": [
    "# n represents no of models to be trained\n",
    "import warnings\n",
    "warnings.filterwarnings('ignore')\n",
    "from IPython.display import clear_output \n",
    "from tqdm import tqdm\n",
    "from datetime import datetime \n",
    "start = datetime.now() \n",
    "n_models=[10,50,100,250,500,1000,1500,2000,2500,3000] \n",
    "# k represents no of samples to train against each models with replacement\n",
    "k_samples=8000\n",
    "train_log_loss_final=[]\n",
    "test_log_loss_final=[]\n",
    "for i in tqdm(range(len(n_models))):\n",
    "  #print('no of models now:',n_models[i])\n",
    "  #print('no of samples now:',k_samples)\n",
    "  meta_train_hstack=[]\n",
    "  meta_test_hstack=[]\n",
    "  y_train_D2_pred_list=[]\n",
    "  y_test_pred_list=[]\n",
    "  for j in range(1,n_models[i]+1):\n",
    "    #print('creating base model no:',j)\n",
    "    random_sample_cnt=k_samples\n",
    "    selected_rows = list(np.random.choice(len(X_train_D1), random_sample_cnt, replace=True))\n",
    "    #print(selected_rows)\n",
    "    X_train_D1_subset=X_train_D1.iloc[selected_rows,:]\n",
    "    y_train_D1_subset=y_train_D1.iloc[selected_rows]  \n",
    "    Model=DecisionTreeClassifier(max_depth=None,random_state = 0)\n",
    "    # parameterize later by selecting the dataset based on indexes\n",
    "    Model.fit(X_train_D1_subset,y_train_D1_subset)\n",
    "    y_train_D2_pred=Model.predict(X_train_D2)\n",
    "    y_test_pred=Model.predict(X_test)\n",
    "    #print(y_train_D2_pred)\n",
    "    #print(type(y_train_D2_pred))\n",
    "    y_train_D2_pred_list = y_train_D2_pred.tolist()\n",
    "    y_test_pred_list = y_test_pred.tolist()\n",
    "    #print(y_train_D2_pred_list)\n",
    "    #print(type(y_train_D2_pred_list))\n",
    "    #y_train_D2_pred.reshape(-1,1)\n",
    "    meta_train_hstack.append(y_train_D2_pred_list)\n",
    "    meta_test_hstack.append(y_test_pred_list)\n",
    "    #print('len of meta_train_hstack',meta_train_hstack)\n",
    "    #print('len of meta_test_hstack',meta_test_hstack)\n",
    "  meta_train_hstack_final = np.array(meta_train_hstack)\n",
    "  meta_train_hstack_final = meta_train_hstack_final.T\n",
    "  meta_train_hstack_df = pd.DataFrame(meta_train_hstack_final) \n",
    "  meta_test_hstack_final = np.array(meta_test_hstack)\n",
    "  meta_test_hstack_final = meta_test_hstack_final.T\n",
    "  meta_test_hstack_df = pd.DataFrame(meta_test_hstack_final)   \n",
    "  # Train meta model\n",
    "  meta_model = XGBClassifier(n_jobs=-1,eval_metric='mlogloss',objective='multi:softmax',num_class=4,random_state=25)\n",
    "  meta_model.fit(meta_train_hstack_df,y_train_D2)\n",
    "  meta_train_pred_proba=meta_model.predict_proba(meta_train_hstack_df)\n",
    "  # Predict via meta model\n",
    "  meta_test_pred=meta_model.predict(meta_test_hstack_df)\n",
    "  meta_test_pred_proba=meta_model.predict_proba(meta_test_hstack_df)\n",
    "  train_log_loss=log_loss(y_train_D2, meta_train_pred_proba)\n",
    "  test_log_loss=log_loss(y_test, meta_test_pred_proba)\n",
    "  #print('train_log_loss for models',i,' is :',train_log_loss)\n",
    "  #print('test_log_loss for models',i,' is :',test_log_loss)\n",
    "  train_log_loss_final.append(train_log_loss)\n",
    "  test_log_loss_final.append(test_log_loss)\n",
    "  if (n_models[i]%2) == 0:\n",
    "    clear_output()  \n",
    "stop = datetime.now()\n",
    "execution_time_lgb = stop-start \n",
    "execution_time_lgb    "
   ]
  },
  {
   "cell_type": "code",
   "execution_count": null,
   "metadata": {
    "colab": {
     "base_uri": "https://localhost:8080/",
     "height": 365
    },
    "id": "fkht9WfMoNFu",
    "outputId": "12fc762c-623e-4bb9-c665-d76632700aac"
   },
   "outputs": [
    {
     "data": {
      "text/plain": [
       "[<matplotlib.lines.Line2D at 0x7f24c4b55210>]"
      ]
     },
     "execution_count": 85,
     "metadata": {
      "tags": []
     },
     "output_type": "execute_result"
    },
    {
     "data": {
      "text/plain": [
       "[<matplotlib.lines.Line2D at 0x7f24c4b55890>]"
      ]
     },
     "execution_count": 85,
     "metadata": {
      "tags": []
     },
     "output_type": "execute_result"
    },
    {
     "data": {
      "text/plain": [
       "Text(0.5, 1.0, 'Comparison of all Train and Test Log loss - 8000 sample size')"
      ]
     },
     "execution_count": 85,
     "metadata": {
      "tags": []
     },
     "output_type": "execute_result"
    },
    {
     "data": {
      "text/plain": [
       "Text(0.5, 0, 'No of Models')"
      ]
     },
     "execution_count": 85,
     "metadata": {
      "tags": []
     },
     "output_type": "execute_result"
    },
    {
     "data": {
      "text/plain": [
       "Text(0, 0.5, 'Log Loss')"
      ]
     },
     "execution_count": 85,
     "metadata": {
      "tags": []
     },
     "output_type": "execute_result"
    },
    {
     "data": {
      "text/plain": [
       "<matplotlib.legend.Legend at 0x7f24c4b499d0>"
      ]
     },
     "execution_count": 85,
     "metadata": {
      "tags": []
     },
     "output_type": "execute_result"
    },
    {
     "data": {
      "image/png": "[encoded data removed]",
      "text/plain": [
       "<Figure size 432x288 with 1 Axes>"
      ]
     },
     "metadata": {
      "tags": []
     },
     "output_type": "display_data"
    }
   ],
   "source": [
    "plt.plot(n_models,train_log_loss_final,'g',label='train_log_loss')\n",
    "plt.plot(n_models,test_log_loss_final,'r',label='test_log_loss')\n",
    "plt.title('Comparison of all Train and Test Log loss - 8000 sample size')\n",
    "plt.xlabel('No of Models')\n",
    "plt.ylabel('Log Loss')\n",
    "plt.legend()\n",
    "plt.show()"
   ]
  },
  {
   "cell_type": "markdown",
   "metadata": {
    "id": "cOOHB162oF-G"
   },
   "source": [
    "# Hyper Parameter tuning XGBOOST Model(Sample Size 2000 records - sent to each base model)"
   ]
  },
  {
   "cell_type": "code",
   "execution_count": null,
   "metadata": {
    "colab": {
     "base_uri": "https://localhost:8080/"
    },
    "id": "uxzl07K4oICb",
    "outputId": "6b917f54-88a7-4abd-db01-1d9d0e553873"
   },
   "outputs": [
    {
     "name": "stderr",
     "output_type": "stream",
     "text": [
      "100%|██████████| 10/10 [38:20<00:00, 230.05s/it]\n"
     ]
    },
    {
     "data": {
      "text/plain": [
       "datetime.timedelta(seconds=2300, microseconds=528814)"
      ]
     },
     "execution_count": 86,
     "metadata": {
      "tags": []
     },
     "output_type": "execute_result"
    }
   ],
   "source": [
    "# n represents no of models to be trained\n",
    "import warnings\n",
    "warnings.filterwarnings('ignore')\n",
    "from IPython.display import clear_output \n",
    "from tqdm import tqdm\n",
    "from datetime import datetime \n",
    "start = datetime.now() \n",
    "n_models=[10,50,100,250,500,1000,1500,2000,2500,3000] \n",
    "# k represents no of samples to train against each models with replacement\n",
    "k_samples=2000\n",
    "train_log_loss_final=[]\n",
    "test_log_loss_final=[]\n",
    "for i in tqdm(range(len(n_models))):\n",
    "  #print('no of models now:',n_models[i])\n",
    "  #print('no of samples now:',k_samples)\n",
    "  meta_train_hstack=[]\n",
    "  meta_test_hstack=[]\n",
    "  y_train_D2_pred_list=[]\n",
    "  y_test_pred_list=[]\n",
    "  for j in range(1,n_models[i]+1):\n",
    "    #print('creating base model no:',j)\n",
    "    random_sample_cnt=k_samples\n",
    "    selected_rows = list(np.random.choice(len(X_train_D1), random_sample_cnt, replace=True))\n",
    "    #print(selected_rows)\n",
    "    X_train_D1_subset=X_train_D1.iloc[selected_rows,:]\n",
    "    y_train_D1_subset=y_train_D1.iloc[selected_rows]  \n",
    "    Model=DecisionTreeClassifier(max_depth=None,random_state = 0)\n",
    "    # parameterize later by selecting the dataset based on indexes\n",
    "    Model.fit(X_train_D1_subset,y_train_D1_subset)\n",
    "    y_train_D2_pred=Model.predict(X_train_D2)\n",
    "    y_test_pred=Model.predict(X_test)\n",
    "    #print(y_train_D2_pred)\n",
    "    #print(type(y_train_D2_pred))\n",
    "    y_train_D2_pred_list = y_train_D2_pred.tolist()\n",
    "    y_test_pred_list = y_test_pred.tolist()\n",
    "    #print(y_train_D2_pred_list)\n",
    "    #print(type(y_train_D2_pred_list))\n",
    "    #y_train_D2_pred.reshape(-1,1)\n",
    "    meta_train_hstack.append(y_train_D2_pred_list)\n",
    "    meta_test_hstack.append(y_test_pred_list)\n",
    "    #print('len of meta_train_hstack',meta_train_hstack)\n",
    "    #print('len of meta_test_hstack',meta_test_hstack)\n",
    "  meta_train_hstack_final = np.array(meta_train_hstack)\n",
    "  meta_train_hstack_final = meta_train_hstack_final.T\n",
    "  meta_train_hstack_df = pd.DataFrame(meta_train_hstack_final) \n",
    "  meta_test_hstack_final = np.array(meta_test_hstack)\n",
    "  meta_test_hstack_final = meta_test_hstack_final.T\n",
    "  meta_test_hstack_df = pd.DataFrame(meta_test_hstack_final)   \n",
    "  # Train meta model\n",
    "  meta_model = XGBClassifier(n_jobs=-1,eval_metric='mlogloss',objective='multi:softmax',num_class=4,random_state=25)\n",
    "  meta_model.fit(meta_train_hstack_df,y_train_D2)\n",
    "  meta_train_pred_proba=meta_model.predict_proba(meta_train_hstack_df)\n",
    "  # Predict via meta model\n",
    "  meta_test_pred=meta_model.predict(meta_test_hstack_df)\n",
    "  meta_test_pred_proba=meta_model.predict_proba(meta_test_hstack_df)\n",
    "  train_log_loss=log_loss(y_train_D2, meta_train_pred_proba)\n",
    "  test_log_loss=log_loss(y_test, meta_test_pred_proba)\n",
    "  #print('train_log_loss for models',i,' is :',train_log_loss)\n",
    "  #print('test_log_loss for models',i,' is :',test_log_loss)\n",
    "  train_log_loss_final.append(train_log_loss)\n",
    "  test_log_loss_final.append(test_log_loss)\n",
    "  if (n_models[i]%2) == 0:\n",
    "    clear_output()  \n",
    "stop = datetime.now()\n",
    "execution_time_lgb = stop-start \n",
    "execution_time_lgb    "
   ]
  },
  {
   "cell_type": "code",
   "execution_count": null,
   "metadata": {
    "colab": {
     "base_uri": "https://localhost:8080/",
     "height": 365
    },
    "id": "e8ETYf9VoO0I",
    "outputId": "6a79c270-73b7-445d-85f5-aeb95e83bf5d"
   },
   "outputs": [
    {
     "data": {
      "text/plain": [
       "[<matplotlib.lines.Line2D at 0x7f24c4d5d590>]"
      ]
     },
     "execution_count": 87,
     "metadata": {
      "tags": []
     },
     "output_type": "execute_result"
    },
    {
     "data": {
      "text/plain": [
       "[<matplotlib.lines.Line2D at 0x7f24c4ca4610>]"
      ]
     },
     "execution_count": 87,
     "metadata": {
      "tags": []
     },
     "output_type": "execute_result"
    },
    {
     "data": {
      "text/plain": [
       "Text(0.5, 1.0, 'Comparison of all Train and Test Log loss - 2000 sample size')"
      ]
     },
     "execution_count": 87,
     "metadata": {
      "tags": []
     },
     "output_type": "execute_result"
    },
    {
     "data": {
      "text/plain": [
       "Text(0.5, 0, 'No of Models')"
      ]
     },
     "execution_count": 87,
     "metadata": {
      "tags": []
     },
     "output_type": "execute_result"
    },
    {
     "data": {
      "text/plain": [
       "Text(0, 0.5, 'Log Loss')"
      ]
     },
     "execution_count": 87,
     "metadata": {
      "tags": []
     },
     "output_type": "execute_result"
    },
    {
     "data": {
      "text/plain": [
       "<matplotlib.legend.Legend at 0x7f24c4ca4450>"
      ]
     },
     "execution_count": 87,
     "metadata": {
      "tags": []
     },
     "output_type": "execute_result"
    },
    {
     "data": {
      "image/png": "[encoded data removed]",
      "text/plain": [
       "<Figure size 432x288 with 1 Axes>"
      ]
     },
     "metadata": {
      "tags": []
     },
     "output_type": "display_data"
    }
   ],
   "source": [
    "plt.plot(n_models,train_log_loss_final,'g',label='train_log_loss')\n",
    "plt.plot(n_models,test_log_loss_final,'r',label='test_log_loss')\n",
    "plt.title('Comparison of all Train and Test Log loss - 2000 sample size')\n",
    "plt.xlabel('No of Models')\n",
    "plt.ylabel('Log Loss')\n",
    "plt.legend()\n",
    "plt.show()"
   ]
  },
  {
   "cell_type": "markdown",
   "metadata": {
    "id": "sUEY8K_2oIn8"
   },
   "source": [
    "# Hyper Parameter tuning XGBOOST Model(Sample Size 1000 records - sent to each base model)"
   ]
  },
  {
   "cell_type": "code",
   "execution_count": null,
   "metadata": {
    "colab": {
     "base_uri": "https://localhost:8080/"
    },
    "id": "Az5adgT1oCYo",
    "outputId": "b62b88b9-fe7f-4296-e553-0cabc95671d1"
   },
   "outputs": [
    {
     "name": "stderr",
     "output_type": "stream",
     "text": [
      "100%|██████████| 10/10 [35:55<00:00, 215.54s/it]\n"
     ]
    },
    {
     "data": {
      "text/plain": [
       "datetime.timedelta(seconds=2155, microseconds=440713)"
      ]
     },
     "execution_count": 88,
     "metadata": {
      "tags": []
     },
     "output_type": "execute_result"
    }
   ],
   "source": [
    "# n represents no of models to be trained\n",
    "import warnings\n",
    "warnings.filterwarnings('ignore')\n",
    "from IPython.display import clear_output \n",
    "from tqdm import tqdm\n",
    "from datetime import datetime \n",
    "start = datetime.now() \n",
    "n_models=[10,50,100,250,500,1000,1500,2000,2500,3000] \n",
    "# k represents no of samples to train against each models with replacement\n",
    "k_samples=1000\n",
    "train_log_loss_final=[]\n",
    "test_log_loss_final=[]\n",
    "for i in tqdm(range(len(n_models))):\n",
    "  #print('no of models now:',n_models[i])\n",
    "  #print('no of samples now:',k_samples)\n",
    "  meta_train_hstack=[]\n",
    "  meta_test_hstack=[]\n",
    "  y_train_D2_pred_list=[]\n",
    "  y_test_pred_list=[]\n",
    "  for j in range(1,n_models[i]+1):\n",
    "    #print('creating base model no:',j)\n",
    "    random_sample_cnt=k_samples\n",
    "    selected_rows = list(np.random.choice(len(X_train_D1), random_sample_cnt, replace=True))\n",
    "    #print(selected_rows)\n",
    "    X_train_D1_subset=X_train_D1.iloc[selected_rows,:]\n",
    "    y_train_D1_subset=y_train_D1.iloc[selected_rows]  \n",
    "    Model=DecisionTreeClassifier(max_depth=None,random_state = 0)\n",
    "    # parameterize later by selecting the dataset based on indexes\n",
    "    Model.fit(X_train_D1_subset,y_train_D1_subset)\n",
    "    y_train_D2_pred=Model.predict(X_train_D2)\n",
    "    y_test_pred=Model.predict(X_test)\n",
    "    #print(y_train_D2_pred)\n",
    "    #print(type(y_train_D2_pred))\n",
    "    y_train_D2_pred_list = y_train_D2_pred.tolist()\n",
    "    y_test_pred_list = y_test_pred.tolist()\n",
    "    #print(y_train_D2_pred_list)\n",
    "    #print(type(y_train_D2_pred_list))\n",
    "    #y_train_D2_pred.reshape(-1,1)\n",
    "    meta_train_hstack.append(y_train_D2_pred_list)\n",
    "    meta_test_hstack.append(y_test_pred_list)\n",
    "    #print('len of meta_train_hstack',meta_train_hstack)\n",
    "    #print('len of meta_test_hstack',meta_test_hstack)\n",
    "  meta_train_hstack_final = np.array(meta_train_hstack)\n",
    "  meta_train_hstack_final = meta_train_hstack_final.T\n",
    "  meta_train_hstack_df = pd.DataFrame(meta_train_hstack_final) \n",
    "  meta_test_hstack_final = np.array(meta_test_hstack)\n",
    "  meta_test_hstack_final = meta_test_hstack_final.T\n",
    "  meta_test_hstack_df = pd.DataFrame(meta_test_hstack_final)   \n",
    "  # Train meta model\n",
    "  meta_model = XGBClassifier(n_jobs=-1,eval_metric='mlogloss',objective='multi:softmax',num_class=4,random_state=25)\n",
    "  meta_model.fit(meta_train_hstack_df,y_train_D2)\n",
    "  meta_train_pred_proba=meta_model.predict_proba(meta_train_hstack_df)\n",
    "  # Predict via meta model\n",
    "  meta_test_pred=meta_model.predict(meta_test_hstack_df)\n",
    "  meta_test_pred_proba=meta_model.predict_proba(meta_test_hstack_df)\n",
    "  train_log_loss=log_loss(y_train_D2, meta_train_pred_proba)\n",
    "  test_log_loss=log_loss(y_test, meta_test_pred_proba)\n",
    "  #print('train_log_loss for models',i,' is :',train_log_loss)\n",
    "  #print('test_log_loss for models',i,' is :',test_log_loss)\n",
    "  train_log_loss_final.append(train_log_loss)\n",
    "  test_log_loss_final.append(test_log_loss)\n",
    "  if (n_models[i]%2) == 0:\n",
    "    clear_output()  \n",
    "stop = datetime.now()\n",
    "execution_time_lgb = stop-start \n",
    "execution_time_lgb    "
   ]
  },
  {
   "cell_type": "code",
   "execution_count": null,
   "metadata": {
    "colab": {
     "base_uri": "https://localhost:8080/",
     "height": 365
    },
    "id": "LAASed3MoQRw",
    "outputId": "6477dd83-4f03-4c6b-d320-5997af95cbf7"
   },
   "outputs": [
    {
     "data": {
      "text/plain": [
       "[<matplotlib.lines.Line2D at 0x7f24c4b7ea90>]"
      ]
     },
     "execution_count": 89,
     "metadata": {
      "tags": []
     },
     "output_type": "execute_result"
    },
    {
     "data": {
      "text/plain": [
       "[<matplotlib.lines.Line2D at 0x7f24c4b7b190>]"
      ]
     },
     "execution_count": 89,
     "metadata": {
      "tags": []
     },
     "output_type": "execute_result"
    },
    {
     "data": {
      "text/plain": [
       "Text(0.5, 1.0, 'Comparison of all Train and Test Log loss - 1000 sample size')"
      ]
     },
     "execution_count": 89,
     "metadata": {
      "tags": []
     },
     "output_type": "execute_result"
    },
    {
     "data": {
      "text/plain": [
       "Text(0.5, 0, 'No of Models')"
      ]
     },
     "execution_count": 89,
     "metadata": {
      "tags": []
     },
     "output_type": "execute_result"
    },
    {
     "data": {
      "text/plain": [
       "Text(0, 0.5, 'Log Loss')"
      ]
     },
     "execution_count": 89,
     "metadata": {
      "tags": []
     },
     "output_type": "execute_result"
    },
    {
     "data": {
      "text/plain": [
       "<matplotlib.legend.Legend at 0x7f24c4b8a990>"
      ]
     },
     "execution_count": 89,
     "metadata": {
      "tags": []
     },
     "output_type": "execute_result"
    },
    {
     "data": {
      "image/png": "[encoded data removed]",
      "text/plain": [
       "<Figure size 432x288 with 1 Axes>"
      ]
     },
     "metadata": {
      "tags": []
     },
     "output_type": "display_data"
    }
   ],
   "source": [
    "plt.plot(n_models,train_log_loss_final,'g',label='train_log_loss')\n",
    "plt.plot(n_models,test_log_loss_final,'r',label='test_log_loss')\n",
    "plt.title('Comparison of all Train and Test Log loss - 1000 sample size')\n",
    "plt.xlabel('No of Models')\n",
    "plt.ylabel('Log Loss')\n",
    "plt.legend()\n",
    "plt.show()"
   ]
  },
  {
   "cell_type": "markdown",
   "metadata": {
    "id": "9S5B9h2qhlc4"
   },
   "source": [
    "# Hyper Parameter tuning LGBM Model(Sample Size 4000 records - sent to each base model)"
   ]
  },
  {
   "cell_type": "code",
   "execution_count": null,
   "metadata": {
    "colab": {
     "base_uri": "https://localhost:8080/"
    },
    "id": "1AMJsWgchpMK",
    "outputId": "b1f7e5e6-1848-4430-b26d-a4b6e3faaed5"
   },
   "outputs": [
    {
     "name": "stderr",
     "output_type": "stream",
     "text": [
      "\n",
      "\n",
      "100%|██████████| 10/10 [29:26<00:00, 176.62s/it]\n"
     ]
    },
    {
     "data": {
      "text/plain": [
       "datetime.timedelta(seconds=1766, microseconds=167374)"
      ]
     },
     "execution_count": 92,
     "metadata": {
      "tags": []
     },
     "output_type": "execute_result"
    }
   ],
   "source": [
    "# n represents no of models to be trained\n",
    "import warnings\n",
    "warnings.filterwarnings('ignore')\n",
    "from IPython.display import clear_output \n",
    "from tqdm import tqdm\n",
    "n_models=[10,50,100,250,500,1000,1500,2000,2500,3000] \n",
    "start = datetime.now() \n",
    "# k represents no of samples to train against each models with replacement\n",
    "k_samples=4000\n",
    "train_log_loss_final=[]\n",
    "test_log_loss_final=[]\n",
    "for i in tqdm(range(len(n_models))):\n",
    "  #print('no of models now:',n_models[i])\n",
    "  #print('no of samples now:',k_samples)\n",
    "  meta_train_hstack=[]\n",
    "  meta_test_hstack=[]\n",
    "  y_train_D2_pred_list=[]\n",
    "  y_test_pred_list=[]\n",
    "  for j in range(1,n_models[i]+1):\n",
    "    #print('creating base model no:',j)\n",
    "    random_sample_cnt=k_samples\n",
    "    selected_rows = list(np.random.choice(len(X_train_D1), random_sample_cnt, replace=True))\n",
    "    #print(selected_rows)\n",
    "    X_train_D1_subset=X_train_D1.iloc[selected_rows,:]\n",
    "    y_train_D1_subset=y_train_D1.iloc[selected_rows]  \n",
    "    Model=DecisionTreeClassifier(max_depth=None,random_state = 0)\n",
    "    # parameterize later by selecting the dataset based on indexes\n",
    "    Model.fit(X_train_D1_subset,y_train_D1_subset)\n",
    "    y_train_D2_pred=Model.predict(X_train_D2)\n",
    "    y_test_pred=Model.predict(X_test)\n",
    "    #print(y_train_D2_pred)\n",
    "    #print(type(y_train_D2_pred))\n",
    "    y_train_D2_pred_list = y_train_D2_pred.tolist()\n",
    "    y_test_pred_list = y_test_pred.tolist()\n",
    "    #print(y_train_D2_pred_list)\n",
    "    #print(type(y_train_D2_pred_list))\n",
    "    #y_train_D2_pred.reshape(-1,1)\n",
    "    meta_train_hstack.append(y_train_D2_pred_list)\n",
    "    meta_test_hstack.append(y_test_pred_list)\n",
    "    #print('len of meta_train_hstack',meta_train_hstack)\n",
    "    #print('len of meta_test_hstack',meta_test_hstack)\n",
    "  meta_train_hstack_final = np.array(meta_train_hstack)\n",
    "  meta_train_hstack_final = meta_train_hstack_final.T\n",
    "  meta_train_hstack_df = pd.DataFrame(meta_train_hstack_final) \n",
    "  meta_test_hstack_final = np.array(meta_test_hstack)\n",
    "  meta_test_hstack_final = meta_test_hstack_final.T\n",
    "  meta_test_hstack_df = pd.DataFrame(meta_test_hstack_final)   \n",
    "  # Train meta model\n",
    "  meta_model = LGBMClassifier(n_jobs=-1,eval_metric='multi_logloss',objective='multiclass',num_class=4,random_state=25)\n",
    "  meta_model.fit(meta_train_hstack_df,y_train_D2)\n",
    "  meta_train_pred_proba=meta_model.predict_proba(meta_train_hstack_df)\n",
    "  # Predict via meta model\n",
    "  meta_test_pred=meta_model.predict(meta_test_hstack_df)\n",
    "  meta_test_pred_proba=meta_model.predict_proba(meta_test_hstack_df)\n",
    "  train_log_loss=log_loss(y_train_D2, meta_train_pred_proba)\n",
    "  test_log_loss=log_loss(y_test, meta_test_pred_proba)\n",
    "  #print('train_log_loss for models',i,' is :',train_log_loss)\n",
    "  #print('test_log_loss for models',i,' is :',test_log_loss)\n",
    "  train_log_loss_final.append(train_log_loss)\n",
    "  test_log_loss_final.append(test_log_loss)\n",
    "  if (n_models[i]%2) == 0:\n",
    "    clear_output()  \n",
    "stop = datetime.now()\n",
    "execution_time_lgb = stop-start \n",
    "execution_time_lgb"
   ]
  },
  {
   "cell_type": "code",
   "execution_count": null,
   "metadata": {
    "colab": {
     "base_uri": "https://localhost:8080/",
     "height": 365
    },
    "id": "Ptjy0gu-on_H",
    "outputId": "d3c21905-4bae-4980-d559-3b4d8913a29b"
   },
   "outputs": [
    {
     "data": {
      "text/plain": [
       "[<matplotlib.lines.Line2D at 0x7f24c4b74110>]"
      ]
     },
     "execution_count": 93,
     "metadata": {
      "tags": []
     },
     "output_type": "execute_result"
    },
    {
     "data": {
      "text/plain": [
       "[<matplotlib.lines.Line2D at 0x7f24c4f6cc10>]"
      ]
     },
     "execution_count": 93,
     "metadata": {
      "tags": []
     },
     "output_type": "execute_result"
    },
    {
     "data": {
      "text/plain": [
       "Text(0.5, 1.0, 'Comparison of all Train and Test Log loss - 4000 sample size')"
      ]
     },
     "execution_count": 93,
     "metadata": {
      "tags": []
     },
     "output_type": "execute_result"
    },
    {
     "data": {
      "text/plain": [
       "Text(0.5, 0, 'No of Models')"
      ]
     },
     "execution_count": 93,
     "metadata": {
      "tags": []
     },
     "output_type": "execute_result"
    },
    {
     "data": {
      "text/plain": [
       "Text(0, 0.5, 'Log Loss')"
      ]
     },
     "execution_count": 93,
     "metadata": {
      "tags": []
     },
     "output_type": "execute_result"
    },
    {
     "data": {
      "text/plain": [
       "<matplotlib.legend.Legend at 0x7f24c56e9f10>"
      ]
     },
     "execution_count": 93,
     "metadata": {
      "tags": []
     },
     "output_type": "execute_result"
    },
    {
     "data": {
      "image/png": "[encoded data removed]",
      "text/plain": [
       "<Figure size 432x288 with 1 Axes>"
      ]
     },
     "metadata": {
      "tags": []
     },
     "output_type": "display_data"
    }
   ],
   "source": [
    "plt.plot(n_models,train_log_loss_final,'g',label='train_log_loss')\n",
    "plt.plot(n_models,test_log_loss_final,'r',label='test_log_loss')\n",
    "plt.title('Comparison of all Train and Test Log loss - 4000 sample size')\n",
    "plt.xlabel('No of Models')\n",
    "plt.ylabel('Log Loss')\n",
    "plt.legend()\n",
    "plt.show()"
   ]
  },
  {
   "cell_type": "markdown",
   "metadata": {
    "id": "ZyBIVNS_oo85"
   },
   "source": [
    "# Hyper Parameter tuning LGBM Model(Sample Size 8000 records - sent to each base model)"
   ]
  },
  {
   "cell_type": "code",
   "execution_count": null,
   "metadata": {
    "colab": {
     "base_uri": "https://localhost:8080/"
    },
    "id": "E_GJp0IXooM0",
    "outputId": "9b5822d4-de6d-4387-91bf-5998f1458764"
   },
   "outputs": [
    {
     "name": "stderr",
     "output_type": "stream",
     "text": [
      "100%|██████████| 10/10 [38:20<00:00, 230.08s/it]\n"
     ]
    },
    {
     "data": {
      "text/plain": [
       "datetime.timedelta(seconds=2300, microseconds=828647)"
      ]
     },
     "execution_count": 23,
     "metadata": {
      "tags": []
     },
     "output_type": "execute_result"
    }
   ],
   "source": [
    "# n represents no of models to be trained\n",
    "import warnings\n",
    "warnings.filterwarnings('ignore')\n",
    "from IPython.display import clear_output \n",
    "from tqdm import tqdm\n",
    "n_models=[10,50,100,250,500,1000,1500,2000,2500,3000] \n",
    "start = datetime.now() \n",
    "# k represents no of samples to train against each models with replacement\n",
    "k_samples=8000\n",
    "train_log_loss_final=[]\n",
    "test_log_loss_final=[]\n",
    "for i in tqdm(range(len(n_models))):\n",
    "  #print('no of models now:',n_models[i])\n",
    "  #print('no of samples now:',k_samples)\n",
    "  meta_train_hstack=[]\n",
    "  meta_test_hstack=[]\n",
    "  y_train_D2_pred_list=[]\n",
    "  y_test_pred_list=[]\n",
    "  for j in range(1,n_models[i]+1):\n",
    "    #print('creating base model no:',j)\n",
    "    random_sample_cnt=k_samples\n",
    "    selected_rows = list(np.random.choice(len(X_train_D1), random_sample_cnt, replace=True))\n",
    "    #print(selected_rows)\n",
    "    X_train_D1_subset=X_train_D1.iloc[selected_rows,:]\n",
    "    y_train_D1_subset=y_train_D1.iloc[selected_rows]  \n",
    "    Model=DecisionTreeClassifier(max_depth=None,random_state = 0)\n",
    "    # parameterize later by selecting the dataset based on indexes\n",
    "    Model.fit(X_train_D1_subset,y_train_D1_subset)\n",
    "    y_train_D2_pred=Model.predict(X_train_D2)\n",
    "    y_test_pred=Model.predict(X_test)\n",
    "    #print(y_train_D2_pred)\n",
    "    #print(type(y_train_D2_pred))\n",
    "    y_train_D2_pred_list = y_train_D2_pred.tolist()\n",
    "    y_test_pred_list = y_test_pred.tolist()\n",
    "    #print(y_train_D2_pred_list)\n",
    "    #print(type(y_train_D2_pred_list))\n",
    "    #y_train_D2_pred.reshape(-1,1)\n",
    "    meta_train_hstack.append(y_train_D2_pred_list)\n",
    "    meta_test_hstack.append(y_test_pred_list)\n",
    "    #print('len of meta_train_hstack',meta_train_hstack)\n",
    "    #print('len of meta_test_hstack',meta_test_hstack)\n",
    "  meta_train_hstack_final = np.array(meta_train_hstack)\n",
    "  meta_train_hstack_final = meta_train_hstack_final.T\n",
    "  meta_train_hstack_df = pd.DataFrame(meta_train_hstack_final) \n",
    "  meta_test_hstack_final = np.array(meta_test_hstack)\n",
    "  meta_test_hstack_final = meta_test_hstack_final.T\n",
    "  meta_test_hstack_df = pd.DataFrame(meta_test_hstack_final)   \n",
    "  # Train meta model\n",
    "  meta_model = LGBMClassifier(n_jobs=-1,eval_metric='multi_logloss',objective='multiclass',num_class=4,random_state=25)\n",
    "  meta_model.fit(meta_train_hstack_df,y_train_D2)\n",
    "  meta_train_pred_proba=meta_model.predict_proba(meta_train_hstack_df)\n",
    "  # Predict via meta model\n",
    "  meta_test_pred=meta_model.predict(meta_test_hstack_df)\n",
    "  meta_test_pred_proba=meta_model.predict_proba(meta_test_hstack_df)\n",
    "  train_log_loss=log_loss(y_train_D2, meta_train_pred_proba)\n",
    "  test_log_loss=log_loss(y_test, meta_test_pred_proba)\n",
    "  #print('train_log_loss for models',i,' is :',train_log_loss)\n",
    "  #print('test_log_loss for models',i,' is :',test_log_loss)\n",
    "  train_log_loss_final.append(train_log_loss)\n",
    "  test_log_loss_final.append(test_log_loss)\n",
    "  if (n_models[i]%2) == 0:\n",
    "    clear_output()  \n",
    "stop = datetime.now()\n",
    "execution_time_lgb = stop-start \n",
    "execution_time_lgb"
   ]
  },
  {
   "cell_type": "code",
   "execution_count": null,
   "metadata": {
    "colab": {
     "base_uri": "https://localhost:8080/",
     "height": 365
    },
    "id": "bOu7jaxUooPh",
    "outputId": "88a7d1fd-07d4-4f1d-c98e-ba204b08ef5e"
   },
   "outputs": [
    {
     "data": {
      "text/plain": [
       "[<matplotlib.lines.Line2D at 0x7f4048ac1210>]"
      ]
     },
     "execution_count": 24,
     "metadata": {
      "tags": []
     },
     "output_type": "execute_result"
    },
    {
     "data": {
      "text/plain": [
       "[<matplotlib.lines.Line2D at 0x7f4048ac1710>]"
      ]
     },
     "execution_count": 24,
     "metadata": {
      "tags": []
     },
     "output_type": "execute_result"
    },
    {
     "data": {
      "text/plain": [
       "Text(0.5, 1.0, 'Comparison of all Train and Test Log loss - 8000 sample size')"
      ]
     },
     "execution_count": 24,
     "metadata": {
      "tags": []
     },
     "output_type": "execute_result"
    },
    {
     "data": {
      "text/plain": [
       "Text(0.5, 0, 'No of Models')"
      ]
     },
     "execution_count": 24,
     "metadata": {
      "tags": []
     },
     "output_type": "execute_result"
    },
    {
     "data": {
      "text/plain": [
       "Text(0, 0.5, 'Log Loss')"
      ]
     },
     "execution_count": 24,
     "metadata": {
      "tags": []
     },
     "output_type": "execute_result"
    },
    {
     "data": {
      "text/plain": [
       "<matplotlib.legend.Legend at 0x7f4048ac1c50>"
      ]
     },
     "execution_count": 24,
     "metadata": {
      "tags": []
     },
     "output_type": "execute_result"
    },
    {
     "data": {
      "image/png": "[encoded data removed]",
      "text/plain": [
       "<Figure size 432x288 with 1 Axes>"
      ]
     },
     "metadata": {
      "tags": []
     },
     "output_type": "display_data"
    }
   ],
   "source": [
    "plt.plot(n_models,train_log_loss_final,'g',label='train_log_loss')\n",
    "plt.plot(n_models,test_log_loss_final,'r',label='test_log_loss')\n",
    "plt.title('Comparison of all Train and Test Log loss - 8000 sample size')\n",
    "plt.xlabel('No of Models')\n",
    "plt.ylabel('Log Loss')\n",
    "plt.legend()\n",
    "plt.show()"
   ]
  },
  {
   "cell_type": "markdown",
   "metadata": {
    "id": "5JVD3VuKorYb"
   },
   "source": [
    "# Hyper Parameter tuning LGBM Model(Sample Size 2000 records - sent to each base model)"
   ]
  },
  {
   "cell_type": "code",
   "execution_count": null,
   "metadata": {
    "colab": {
     "base_uri": "https://localhost:8080/"
    },
    "id": "3XUzy51uooTb",
    "outputId": "90b9c21b-e2de-4b3e-f447-0f5fa1432558"
   },
   "outputs": [
    {
     "name": "stderr",
     "output_type": "stream",
     "text": [
      "100%|██████████| 10/10 [19:52<00:00, 119.23s/it]\n"
     ]
    },
    {
     "data": {
      "text/plain": [
       "datetime.timedelta(seconds=1192, microseconds=341979)"
      ]
     },
     "execution_count": 25,
     "metadata": {
      "tags": []
     },
     "output_type": "execute_result"
    }
   ],
   "source": [
    "# n represents no of models to be trained\n",
    "import warnings\n",
    "warnings.filterwarnings('ignore')\n",
    "from IPython.display import clear_output \n",
    "from tqdm import tqdm\n",
    "n_models=[10,50,100,250,500,1000,1500,2000,2500,3000] \n",
    "start = datetime.now() \n",
    "# k represents no of samples to train against each models with replacement\n",
    "k_samples=2000\n",
    "train_log_loss_final=[]\n",
    "test_log_loss_final=[]\n",
    "for i in tqdm(range(len(n_models))):\n",
    "  #print('no of models now:',n_models[i])\n",
    "  #print('no of samples now:',k_samples)\n",
    "  meta_train_hstack=[]\n",
    "  meta_test_hstack=[]\n",
    "  y_train_D2_pred_list=[]\n",
    "  y_test_pred_list=[]\n",
    "  for j in range(1,n_models[i]+1):\n",
    "    #print('creating base model no:',j)\n",
    "    random_sample_cnt=k_samples\n",
    "    selected_rows = list(np.random.choice(len(X_train_D1), random_sample_cnt, replace=True))\n",
    "    #print(selected_rows)\n",
    "    X_train_D1_subset=X_train_D1.iloc[selected_rows,:]\n",
    "    y_train_D1_subset=y_train_D1.iloc[selected_rows]  \n",
    "    Model=DecisionTreeClassifier(max_depth=None,random_state = 0)\n",
    "    # parameterize later by selecting the dataset based on indexes\n",
    "    Model.fit(X_train_D1_subset,y_train_D1_subset)\n",
    "    y_train_D2_pred=Model.predict(X_train_D2)\n",
    "    y_test_pred=Model.predict(X_test)\n",
    "    #print(y_train_D2_pred)\n",
    "    #print(type(y_train_D2_pred))\n",
    "    y_train_D2_pred_list = y_train_D2_pred.tolist()\n",
    "    y_test_pred_list = y_test_pred.tolist()\n",
    "    #print(y_train_D2_pred_list)\n",
    "    #print(type(y_train_D2_pred_list))\n",
    "    #y_train_D2_pred.reshape(-1,1)\n",
    "    meta_train_hstack.append(y_train_D2_pred_list)\n",
    "    meta_test_hstack.append(y_test_pred_list)\n",
    "    #print('len of meta_train_hstack',meta_train_hstack)\n",
    "    #print('len of meta_test_hstack',meta_test_hstack)\n",
    "  meta_train_hstack_final = np.array(meta_train_hstack)\n",
    "  meta_train_hstack_final = meta_train_hstack_final.T\n",
    "  meta_train_hstack_df = pd.DataFrame(meta_train_hstack_final) \n",
    "  meta_test_hstack_final = np.array(meta_test_hstack)\n",
    "  meta_test_hstack_final = meta_test_hstack_final.T\n",
    "  meta_test_hstack_df = pd.DataFrame(meta_test_hstack_final)   \n",
    "  # Train meta model\n",
    "  meta_model = LGBMClassifier(n_jobs=-1,eval_metric='multi_logloss',objective='multiclass',num_class=4,random_state=25)\n",
    "  meta_model.fit(meta_train_hstack_df,y_train_D2)\n",
    "  meta_train_pred_proba=meta_model.predict_proba(meta_train_hstack_df)\n",
    "  # Predict via meta model\n",
    "  meta_test_pred=meta_model.predict(meta_test_hstack_df)\n",
    "  meta_test_pred_proba=meta_model.predict_proba(meta_test_hstack_df)\n",
    "  train_log_loss=log_loss(y_train_D2, meta_train_pred_proba)\n",
    "  test_log_loss=log_loss(y_test, meta_test_pred_proba)\n",
    "  #print('train_log_loss for models',i,' is :',train_log_loss)\n",
    "  #print('test_log_loss for models',i,' is :',test_log_loss)\n",
    "  train_log_loss_final.append(train_log_loss)\n",
    "  test_log_loss_final.append(test_log_loss)\n",
    "  if (n_models[i]%2) == 0:\n",
    "    clear_output()  \n",
    "stop = datetime.now()\n",
    "execution_time_lgb = stop-start \n",
    "execution_time_lgb"
   ]
  },
  {
   "cell_type": "code",
   "execution_count": null,
   "metadata": {
    "colab": {
     "base_uri": "https://localhost:8080/",
     "height": 365
    },
    "id": "Yu7BP0f6os7U",
    "outputId": "0a6ca264-dd45-4662-cb4b-078b76ef2535"
   },
   "outputs": [
    {
     "data": {
      "text/plain": [
       "[<matplotlib.lines.Line2D at 0x7f404835ea10>]"
      ]
     },
     "execution_count": 26,
     "metadata": {
      "tags": []
     },
     "output_type": "execute_result"
    },
    {
     "data": {
      "text/plain": [
       "[<matplotlib.lines.Line2D at 0x7f404b300d10>]"
      ]
     },
     "execution_count": 26,
     "metadata": {
      "tags": []
     },
     "output_type": "execute_result"
    },
    {
     "data": {
      "text/plain": [
       "Text(0.5, 1.0, 'Comparison of all Train and Test Log loss - 2000 sample size')"
      ]
     },
     "execution_count": 26,
     "metadata": {
      "tags": []
     },
     "output_type": "execute_result"
    },
    {
     "data": {
      "text/plain": [
       "Text(0.5, 0, 'No of Models')"
      ]
     },
     "execution_count": 26,
     "metadata": {
      "tags": []
     },
     "output_type": "execute_result"
    },
    {
     "data": {
      "text/plain": [
       "Text(0, 0.5, 'Log Loss')"
      ]
     },
     "execution_count": 26,
     "metadata": {
      "tags": []
     },
     "output_type": "execute_result"
    },
    {
     "data": {
      "text/plain": [
       "<matplotlib.legend.Legend at 0x7f40485e5090>"
      ]
     },
     "execution_count": 26,
     "metadata": {
      "tags": []
     },
     "output_type": "execute_result"
    },
    {
     "data": {
      "image/png": "[encoded data removed]",
      "text/plain": [
       "<Figure size 432x288 with 1 Axes>"
      ]
     },
     "metadata": {
      "tags": []
     },
     "output_type": "display_data"
    }
   ],
   "source": [
    "plt.plot(n_models,train_log_loss_final,'g',label='train_log_loss')\n",
    "plt.plot(n_models,test_log_loss_final,'r',label='test_log_loss')\n",
    "plt.title('Comparison of all Train and Test Log loss - 2000 sample size')\n",
    "plt.xlabel('No of Models')\n",
    "plt.ylabel('Log Loss')\n",
    "plt.legend()\n",
    "plt.show()"
   ]
  },
  {
   "cell_type": "markdown",
   "metadata": {
    "id": "t8d4x79Dot1U"
   },
   "source": [
    "# Hyper Parameter tuning LGBM Model(Sample Size 1000 records - sent to each base model)"
   ]
  },
  {
   "cell_type": "code",
   "execution_count": 21,
   "metadata": {
    "colab": {
     "base_uri": "https://localhost:8080/"
    },
    "id": "6sAa09pros-g",
    "outputId": "f26522a7-3842-47e7-e881-a2ed92af36e0"
   },
   "outputs": [
    {
     "name": "stderr",
     "output_type": "stream",
     "text": [
      "100%|██████████| 10/10 [13:41<00:00, 82.17s/it] \n"
     ]
    },
    {
     "data": {
      "text/plain": [
       "datetime.timedelta(seconds=821, microseconds=700386)"
      ]
     },
     "execution_count": 21,
     "metadata": {
      "tags": []
     },
     "output_type": "execute_result"
    }
   ],
   "source": [
    "# n represents no of models to be trained\n",
    "import warnings\n",
    "warnings.filterwarnings('ignore')\n",
    "from IPython.display import clear_output \n",
    "from tqdm import tqdm\n",
    "n_models=[10,50,100,250,500,1000,1500,2000,2500,3000] \n",
    "start = datetime.now() \n",
    "# k represents no of samples to train against each models with replacement\n",
    "k_samples=1000\n",
    "train_log_loss_final=[]\n",
    "test_log_loss_final=[]\n",
    "for i in tqdm(range(len(n_models))):\n",
    "  #print('no of models now:',n_models[i])\n",
    "  #print('no of samples now:',k_samples)\n",
    "  meta_train_hstack=[]\n",
    "  meta_test_hstack=[]\n",
    "  y_train_D2_pred_list=[]\n",
    "  y_test_pred_list=[]\n",
    "  for j in range(1,n_models[i]+1):\n",
    "    #print('creating base model no:',j)\n",
    "    random_sample_cnt=k_samples\n",
    "    selected_rows = list(np.random.choice(len(X_train_D1), random_sample_cnt, replace=True))\n",
    "    #print(selected_rows)\n",
    "    X_train_D1_subset=X_train_D1.iloc[selected_rows,:]\n",
    "    y_train_D1_subset=y_train_D1.iloc[selected_rows]  \n",
    "    Model=DecisionTreeClassifier(max_depth=None,random_state = 0)\n",
    "    # parameterize later by selecting the dataset based on indexes\n",
    "    Model.fit(X_train_D1_subset,y_train_D1_subset)\n",
    "    y_train_D2_pred=Model.predict(X_train_D2)\n",
    "    y_test_pred=Model.predict(X_test)\n",
    "    #print(y_train_D2_pred)\n",
    "    #print(type(y_train_D2_pred))\n",
    "    y_train_D2_pred_list = y_train_D2_pred.tolist()\n",
    "    y_test_pred_list = y_test_pred.tolist()\n",
    "    #print(y_train_D2_pred_list)\n",
    "    #print(type(y_train_D2_pred_list))\n",
    "    #y_train_D2_pred.reshape(-1,1)\n",
    "    meta_train_hstack.append(y_train_D2_pred_list)\n",
    "    meta_test_hstack.append(y_test_pred_list)\n",
    "    #print('len of meta_train_hstack',meta_train_hstack)\n",
    "    #print('len of meta_test_hstack',meta_test_hstack)\n",
    "  meta_train_hstack_final = np.array(meta_train_hstack)\n",
    "  meta_train_hstack_final = meta_train_hstack_final.T\n",
    "  meta_train_hstack_df = pd.DataFrame(meta_train_hstack_final) \n",
    "  meta_test_hstack_final = np.array(meta_test_hstack)\n",
    "  meta_test_hstack_final = meta_test_hstack_final.T\n",
    "  meta_test_hstack_df = pd.DataFrame(meta_test_hstack_final)   \n",
    "  # Train meta model\n",
    "  meta_model = LGBMClassifier(n_jobs=-1,eval_metric='multi_logloss',objective='multiclass',num_class=4,random_state=25)\n",
    "  meta_model.fit(meta_train_hstack_df,y_train_D2)\n",
    "  meta_train_pred_proba=meta_model.predict_proba(meta_train_hstack_df)\n",
    "  # Predict via meta model\n",
    "  meta_test_pred=meta_model.predict(meta_test_hstack_df)\n",
    "  meta_test_pred_proba=meta_model.predict_proba(meta_test_hstack_df)\n",
    "  train_log_loss=log_loss(y_train_D2, meta_train_pred_proba)\n",
    "  test_log_loss=log_loss(y_test, meta_test_pred_proba)\n",
    "  #print('train_log_loss for models',i,' is :',train_log_loss)\n",
    "  #print('test_log_loss for models',i,' is :',test_log_loss)\n",
    "  train_log_loss_final.append(train_log_loss)\n",
    "  test_log_loss_final.append(test_log_loss)\n",
    "  if (n_models[i]%2) == 0:\n",
    "    clear_output()  \n",
    "stop = datetime.now()\n",
    "execution_time_lgb = stop-start \n",
    "execution_time_lgb"
   ]
  },
  {
   "cell_type": "code",
   "execution_count": 23,
   "metadata": {
    "colab": {
     "base_uri": "https://localhost:8080/"
    },
    "id": "zjOs-syzHYmC",
    "outputId": "8d3e267a-c9b5-42fa-de13-2907b0861b61"
   },
   "outputs": [
    {
     "name": "stdout",
     "output_type": "stream",
     "text": [
      "best test log loss: 0.9218243430722698\n",
      "best estimators: 3000\n"
     ]
    }
   ],
   "source": [
    "best_test_log_loss_final = min(test_log_loss_final)\n",
    "best_test_log_loss_index = test_log_loss_final.index(best_test_log_loss_final)\n",
    "\n",
    "best_estimator=n_models[best_test_log_loss_index ]\n",
    "print('best test log loss:',best_test_log_loss_final)\n",
    "print('best estimators:',best_estimator)"
   ]
  },
  {
   "cell_type": "code",
   "execution_count": 24,
   "metadata": {
    "colab": {
     "base_uri": "https://localhost:8080/",
     "height": 365
    },
    "id": "EpB57RhHotEb",
    "outputId": "e17e4585-ee62-4e3a-bb99-7a9c3babf413"
   },
   "outputs": [
    {
     "data": {
      "text/plain": [
       "[<matplotlib.lines.Line2D at 0x7f2afa8c46d0>]"
      ]
     },
     "execution_count": 24,
     "metadata": {
      "tags": []
     },
     "output_type": "execute_result"
    },
    {
     "data": {
      "text/plain": [
       "[<matplotlib.lines.Line2D at 0x7f2afa8c4e50>]"
      ]
     },
     "execution_count": 24,
     "metadata": {
      "tags": []
     },
     "output_type": "execute_result"
    },
    {
     "data": {
      "text/plain": [
       "Text(0.5, 1.0, 'Comparison of all Train and Test Log loss - 1000 sample size')"
      ]
     },
     "execution_count": 24,
     "metadata": {
      "tags": []
     },
     "output_type": "execute_result"
    },
    {
     "data": {
      "text/plain": [
       "Text(0.5, 0, 'No of Models')"
      ]
     },
     "execution_count": 24,
     "metadata": {
      "tags": []
     },
     "output_type": "execute_result"
    },
    {
     "data": {
      "text/plain": [
       "Text(0, 0.5, 'Log Loss')"
      ]
     },
     "execution_count": 24,
     "metadata": {
      "tags": []
     },
     "output_type": "execute_result"
    },
    {
     "data": {
      "text/plain": [
       "<matplotlib.legend.Legend at 0x7f2afa8c4d50>"
      ]
     },
     "execution_count": 24,
     "metadata": {
      "tags": []
     },
     "output_type": "execute_result"
    },
    {
     "data": {
      "image/png": "[encoded data removed]",
      "text/plain": [
       "<Figure size 432x288 with 1 Axes>"
      ]
     },
     "metadata": {
      "tags": []
     },
     "output_type": "display_data"
    }
   ],
   "source": [
    "plt.plot(n_models,train_log_loss_final,'g',label='train_log_loss')\n",
    "plt.plot(n_models,test_log_loss_final,'r',label='test_log_loss')\n",
    "plt.title('Comparison of all Train and Test Log loss - 1000 sample size')\n",
    "plt.xlabel('No of Models')\n",
    "plt.ylabel('Log Loss')\n",
    "plt.legend()\n",
    "plt.show()"
   ]
  },
  {
   "cell_type": "markdown",
   "metadata": {
    "id": "fxdY14ekJQCg"
   },
   "source": [
    "# USING SELECTED FEATURES AND USING CUSTOM ENSEMBLING "
   ]
  },
  {
   "cell_type": "code",
   "execution_count": 21,
   "metadata": {
    "id": "LP_dKgDlEi71"
   },
   "outputs": [],
   "source": [
    "all_data_new_fts=pd.read_csv('/content/Drug_Marketing1/Drug_Marketing1/all_data_new.csv')"
   ]
  },
  {
   "cell_type": "code",
   "execution_count": 22,
   "metadata": {
    "id": "wlADkOuiEi_g"
   },
   "outputs": [],
   "source": [
    "CLASS_LABEL ='physician_segment_ordinal'"
   ]
  },
  {
   "cell_type": "code",
   "execution_count": 23,
   "metadata": {
    "colab": {
     "base_uri": "https://localhost:8080/"
    },
    "id": "MfmqswZ1EjDe",
    "outputId": "f24b577b-de73-488d-b468-d940d2c7194e"
   },
   "outputs": [
    {
     "name": "stdout",
     "output_type": "stream",
     "text": [
      "\n",
      "Total Dataset contains 48703 samples and 31 variables\n",
      "\n",
      "The dataset contains 30 features and 1 CLASS LABEL\n"
     ]
    }
   ],
   "source": [
    "print(f'\\nTotal Dataset contains {all_data_new_fts.shape[0]} samples and {all_data_new_fts.shape[1]} variables')\n",
    "features = [c for c in all_data_new_fts.columns if c not in [CLASS_LABEL]]\n",
    "print(f'\\nThe dataset contains {len(features)} features and 1 CLASS LABEL')"
   ]
  },
  {
   "cell_type": "code",
   "execution_count": 24,
   "metadata": {
    "id": "Pvmm0AiOFUxe"
   },
   "outputs": [],
   "source": [
    "category_cols= ['physician_gender', 'physician_speciality', 'year_quarter']"
   ]
  },
  {
   "cell_type": "code",
   "execution_count": 25,
   "metadata": {
    "id": "VU0hXd8-FVFk"
   },
   "outputs": [],
   "source": [
    "all_data_new_fts.drop(['saving_cards_dropped','vouchers_dropped','total_seminar_as_attendee','total_seminar_as_speaker'\n",
    ",'total_prescriptions_for_indication3','brand_web_impressions','brand_ehr_impressions','brand_enews_impressions','brand_mobile_impressions'\n",
    ",'brand_organic_web_visits','brand_paidsearch_visits','urban_population_perc_in_physician_locality','percent_population_with_health_insurance_in_last10q'\n",
    ",'physician_tenure','physician_age'], axis = 1,inplace = True)"
   ]
  },
  {
   "cell_type": "code",
   "execution_count": 26,
   "metadata": {
    "colab": {
     "base_uri": "https://localhost:8080/",
     "height": 218
    },
    "id": "ZWAAvJykFVIV",
    "outputId": "febc4f2f-5145-4a16-a487-637525917ce6"
   },
   "outputs": [
    {
     "data": {
      "text/html": [
       "<div>\n",
       "<style scoped>\n",
       "    .dataframe tbody tr th:only-of-type {\n",
       "        vertical-align: middle;\n",
       "    }\n",
       "\n",
       "    .dataframe tbody tr th {\n",
       "        vertical-align: top;\n",
       "    }\n",
       "\n",
       "    .dataframe thead th {\n",
       "        text-align: right;\n",
       "    }\n",
       "</style>\n",
       "<table border=\"1\" class=\"dataframe\">\n",
       "  <thead>\n",
       "    <tr style=\"text-align: right;\">\n",
       "      <th></th>\n",
       "      <th>year_quarter</th>\n",
       "      <th>brand_prescribed</th>\n",
       "      <th>total_representative_visits</th>\n",
       "      <th>total_sample_dropped</th>\n",
       "      <th>physician_hospital_affiliation</th>\n",
       "      <th>physician_in_group_practice</th>\n",
       "      <th>total_prescriptions_for_indication1</th>\n",
       "      <th>total_prescriptions_for_indication2</th>\n",
       "      <th>total_patient_with_commercial_insurance_plan</th>\n",
       "      <th>total_patient_with_medicare_insurance_plan</th>\n",
       "      <th>total_patient_with_medicaid_insurance_plan</th>\n",
       "      <th>total_competitor_prescription</th>\n",
       "      <th>new_prescriptions</th>\n",
       "      <th>physician_gender</th>\n",
       "      <th>physician_speciality</th>\n",
       "      <th>physician_segment_ordinal</th>\n",
       "    </tr>\n",
       "  </thead>\n",
       "  <tbody>\n",
       "    <tr>\n",
       "      <th>0</th>\n",
       "      <td>201903-Q3</td>\n",
       "      <td>1</td>\n",
       "      <td>9</td>\n",
       "      <td>39</td>\n",
       "      <td>0</td>\n",
       "      <td>1</td>\n",
       "      <td>46</td>\n",
       "      <td>20</td>\n",
       "      <td>28</td>\n",
       "      <td>76</td>\n",
       "      <td>28</td>\n",
       "      <td>165</td>\n",
       "      <td>42</td>\n",
       "      <td>M</td>\n",
       "      <td>nephrology</td>\n",
       "      <td>3</td>\n",
       "    </tr>\n",
       "    <tr>\n",
       "      <th>1</th>\n",
       "      <td>201904-Q4</td>\n",
       "      <td>1</td>\n",
       "      <td>4</td>\n",
       "      <td>12</td>\n",
       "      <td>0</td>\n",
       "      <td>1</td>\n",
       "      <td>43</td>\n",
       "      <td>18</td>\n",
       "      <td>22</td>\n",
       "      <td>72</td>\n",
       "      <td>36</td>\n",
       "      <td>169</td>\n",
       "      <td>45</td>\n",
       "      <td>M</td>\n",
       "      <td>nephrology</td>\n",
       "      <td>3</td>\n",
       "    </tr>\n",
       "    <tr>\n",
       "      <th>2</th>\n",
       "      <td>202001-Q1</td>\n",
       "      <td>1</td>\n",
       "      <td>14</td>\n",
       "      <td>26</td>\n",
       "      <td>0</td>\n",
       "      <td>1</td>\n",
       "      <td>53</td>\n",
       "      <td>17</td>\n",
       "      <td>33</td>\n",
       "      <td>80</td>\n",
       "      <td>33</td>\n",
       "      <td>198</td>\n",
       "      <td>49</td>\n",
       "      <td>M</td>\n",
       "      <td>nephrology</td>\n",
       "      <td>3</td>\n",
       "    </tr>\n",
       "    <tr>\n",
       "      <th>3</th>\n",
       "      <td>202002-Q2</td>\n",
       "      <td>1</td>\n",
       "      <td>18</td>\n",
       "      <td>20</td>\n",
       "      <td>0</td>\n",
       "      <td>1</td>\n",
       "      <td>45</td>\n",
       "      <td>19</td>\n",
       "      <td>38</td>\n",
       "      <td>67</td>\n",
       "      <td>28</td>\n",
       "      <td>170</td>\n",
       "      <td>46</td>\n",
       "      <td>M</td>\n",
       "      <td>nephrology</td>\n",
       "      <td>3</td>\n",
       "    </tr>\n",
       "    <tr>\n",
       "      <th>4</th>\n",
       "      <td>202003-Q3</td>\n",
       "      <td>1</td>\n",
       "      <td>5</td>\n",
       "      <td>96</td>\n",
       "      <td>0</td>\n",
       "      <td>1</td>\n",
       "      <td>48</td>\n",
       "      <td>25</td>\n",
       "      <td>35</td>\n",
       "      <td>75</td>\n",
       "      <td>31</td>\n",
       "      <td>169</td>\n",
       "      <td>0</td>\n",
       "      <td>M</td>\n",
       "      <td>nephrology</td>\n",
       "      <td>2</td>\n",
       "    </tr>\n",
       "  </tbody>\n",
       "</table>\n",
       "</div>"
      ],
      "text/plain": [
       "  year_quarter  ...  physician_segment_ordinal\n",
       "0  201903-Q3    ...  3                        \n",
       "1  201904-Q4    ...  3                        \n",
       "2  202001-Q1    ...  3                        \n",
       "3  202002-Q2    ...  3                        \n",
       "4  202003-Q3    ...  2                        \n",
       "\n",
       "[5 rows x 16 columns]"
      ]
     },
     "execution_count": 26,
     "metadata": {
      "tags": []
     },
     "output_type": "execute_result"
    }
   ],
   "source": [
    "all_data_new_fts.head(5)"
   ]
  },
  {
   "cell_type": "code",
   "execution_count": 27,
   "metadata": {
    "colab": {
     "base_uri": "https://localhost:8080/"
    },
    "id": "awjD9RE_FVNf",
    "outputId": "fe1074fd-e721-44fb-e5ad-4bb45216c85c"
   },
   "outputs": [
    {
     "data": {
      "text/plain": [
       "['year_quarter',\n",
       " 'brand_prescribed',\n",
       " 'total_representative_visits',\n",
       " 'total_sample_dropped',\n",
       " 'physician_hospital_affiliation',\n",
       " 'physician_in_group_practice',\n",
       " 'total_prescriptions_for_indication1',\n",
       " 'total_prescriptions_for_indication2',\n",
       " 'total_patient_with_commercial_insurance_plan',\n",
       " 'total_patient_with_medicare_insurance_plan',\n",
       " 'total_patient_with_medicaid_insurance_plan',\n",
       " 'total_competitor_prescription',\n",
       " 'new_prescriptions',\n",
       " 'physician_gender',\n",
       " 'physician_speciality']"
      ]
     },
     "execution_count": 27,
     "metadata": {
      "tags": []
     },
     "output_type": "execute_result"
    }
   ],
   "source": [
    "features = [c for c in all_data_new_fts.columns if c not in [CLASS_LABEL]]\n",
    "features"
   ]
  },
  {
   "cell_type": "code",
   "execution_count": 28,
   "metadata": {
    "id": "ys34wbYXFVQ_"
   },
   "outputs": [],
   "source": [
    "all_data_new_fts = pd.get_dummies(all_data_new_fts, columns = category_cols)"
   ]
  },
  {
   "cell_type": "markdown",
   "metadata": {
    "id": "bAwmzCP6G1Sc"
   },
   "source": [
    "# Splitting Train into D1 and D2 (50:50)"
   ]
  },
  {
   "cell_type": "code",
   "execution_count": 29,
   "metadata": {
    "id": "T6WoAJ0PG-xO"
   },
   "outputs": [],
   "source": [
    "y_class = all_data_new_fts[CLASS_LABEL]\n",
    "CLASS_LABEL ='physician_segment_ordinal'\n",
    "# split the data into test and train by maintaining same distribution of output varaible 'y_true' [stratify=y_true]\n",
    "X_train, X_test, y_train, y_test = train_test_split(all_data_new_fts.drop(['physician_segment_ordinal'], axis=1), y_class,stratify=y_class,test_size=0.20)\n",
    "# split the train data into train and cross validation by maintaining same distribution of output varaible 'y_train' [stratify=y_train]\n",
    "#X_train, X_cv, y_train, y_cv = train_test_split(X_train, y_train,stratify=y_train,test_size=0.20)"
   ]
  },
  {
   "cell_type": "code",
   "execution_count": 30,
   "metadata": {
    "id": "fxJZ3vKBG4hd"
   },
   "outputs": [],
   "source": [
    "X_train_D1, X_train_D2, y_train_D1, y_train_D2 = train_test_split(X_train, y_train,stratify=y_train,test_size=0.50)\n"
   ]
  },
  {
   "cell_type": "code",
   "execution_count": 31,
   "metadata": {
    "colab": {
     "base_uri": "https://localhost:8080/"
    },
    "id": "2zonJZz2G4lf",
    "outputId": "280df2d7-fa6b-4de6-99a9-64802f63b004"
   },
   "outputs": [
    {
     "name": "stdout",
     "output_type": "stream",
     "text": [
      "Number of data points in train data D1: 19481\n",
      "Number of data points in train data D2: 19481\n",
      "Number of data points in test data: 9741\n"
     ]
    }
   ],
   "source": [
    "print('Number of data points in train data D1:', X_train_D1.shape[0])\n",
    "print('Number of data points in train data D2:', X_train_D2.shape[0])\n",
    "print('Number of data points in test data:', X_test.shape[0])"
   ]
  },
  {
   "cell_type": "code",
   "execution_count": 32,
   "metadata": {
    "id": "QYHeOuU0Fi1y"
   },
   "outputs": [],
   "source": [
    "numerical_cols=['total_representative_visits',\n",
    " 'total_sample_dropped',\n",
    " 'total_prescriptions_for_indication1',\n",
    " 'total_prescriptions_for_indication2',\n",
    " 'total_patient_with_commercial_insurance_plan',\n",
    " 'total_patient_with_medicare_insurance_plan',\n",
    " 'total_patient_with_medicaid_insurance_plan',\n",
    " 'total_competitor_prescription',\n",
    " 'new_prescriptions']"
   ]
  },
  {
   "cell_type": "code",
   "execution_count": 33,
   "metadata": {
    "id": "-7BYSSIVFi5f"
   },
   "outputs": [],
   "source": [
    "features = numerical_cols\n",
    "autoscaler = MinMaxScaler()\n",
    "#autoscaler = StandardScaler()\n",
    "X_train_D1[features] = autoscaler.fit_transform(X_train_D1[features])"
   ]
  },
  {
   "cell_type": "code",
   "execution_count": 34,
   "metadata": {
    "id": "2HR5NT7KHPso"
   },
   "outputs": [],
   "source": [
    "#X_cv[features] = autoscaler.transform(X_cv[features])\n",
    "X_train_D2[features] = autoscaler.transform(X_train_D2[features])"
   ]
  },
  {
   "cell_type": "code",
   "execution_count": 35,
   "metadata": {
    "id": "muZ9vu6nHPwC"
   },
   "outputs": [],
   "source": [
    "\n",
    "X_test[features] = autoscaler.transform(X_test[features])"
   ]
  },
  {
   "cell_type": "code",
   "execution_count": 36,
   "metadata": {
    "id": "5eaENSULHP5O"
   },
   "outputs": [],
   "source": [
    "# Reference : Applied AI Course:\n",
    "\n",
    "def plot_confusion_matrix(test_y, predict_y):\n",
    "    C = confusion_matrix(test_y, predict_y)\n",
    "    print(\"Number of misclassified points \",(len(test_y)-np.trace(C))/len(test_y)*100)\n",
    "    # C = 9,9 matrix, each cell (i,j) represents number of points of class i are predicted class j\n",
    "    \n",
    "    A =(((C.T)/(C.sum(axis=1))).T)\n",
    "    #divid each element of the confusion matrix with the sum of elements in that column\n",
    "    \n",
    "    # C = [[1, 2],\n",
    "    #     [3, 4]]\n",
    "    # C.T = [[1, 3],\n",
    "    #        [2, 4]]\n",
    "    # C.sum(axis = 1)  axis=0 corresonds to columns and axis=1 corresponds to rows in two diamensional array\n",
    "    # C.sum(axix =1) = [[3, 7]]\n",
    "    # ((C.T)/(C.sum(axis=1))) = [[1/3, 3/7]\n",
    "    #                           [2/3, 4/7]]\n",
    "\n",
    "    # ((C.T)/(C.sum(axis=1))).T = [[1/3, 2/3]\n",
    "    #                           [3/7, 4/7]]\n",
    "    # sum of row elements = 1\n",
    "    \n",
    "    B =(C/C.sum(axis=0))\n",
    "    #divid each element of the confusion matrix with the sum of elements in that row\n",
    "    # C = [[1, 2],\n",
    "    #     [3, 4]]\n",
    "    # C.sum(axis = 0)  axis=0 corresonds to columns and axis=1 corresponds to rows in two diamensional array\n",
    "    # C.sum(axix =0) = [[4, 6]]\n",
    "    # (C/C.sum(axis=0)) = [[1/4, 2/6],\n",
    "    #                      [3/4, 4/6]] \n",
    "    \n",
    "    labels = [1,2,3,4]\n",
    "    cmap=sns.light_palette(\"green\")\n",
    "    # representing A in heatmap format\n",
    "    print(\"-\"*50, \"Confusion matrix\", \"-\"*50)\n",
    "    plt.figure(figsize=(10,5))\n",
    "    sns.heatmap(C, annot=True, cmap=cmap, fmt=\".3f\", xticklabels=labels, yticklabels=labels)\n",
    "    plt.xlabel('Predicted Class')\n",
    "    plt.ylabel('Original Class')\n",
    "    plt.show()\n",
    "\n",
    "    print(\"-\"*50, \"Precision matrix\", \"-\"*50)\n",
    "    plt.figure(figsize=(10,5))\n",
    "    sns.heatmap(B, annot=True, cmap=cmap, fmt=\".3f\", xticklabels=labels, yticklabels=labels)\n",
    "    plt.xlabel('Predicted Class')\n",
    "    plt.ylabel('Original Class')\n",
    "    plt.show()\n",
    "    print(\"Sum of columns in precision matrix\",B.sum(axis=0))\n",
    "    \n",
    "    # representing B in heatmap format\n",
    "    print(\"-\"*50, \"Recall matrix\"    , \"-\"*50)\n",
    "    plt.figure(figsize=(10,5))\n",
    "    sns.heatmap(A, annot=True, cmap=cmap, fmt=\".3f\", xticklabels=labels, yticklabels=labels)\n",
    "    plt.xlabel('Predicted Class')\n",
    "    plt.ylabel('Original Class')\n",
    "    plt.show()\n",
    "    print(\"Sum of rows in precision matrix\",A.sum(axis=1))"
   ]
  },
  {
   "cell_type": "markdown",
   "metadata": {
    "id": "fhn5kO_YNAok"
   },
   "source": [
    "# SET 2 DATASET AND ITS MODELING\n",
    "\n",
    "- It also has Sampling with replacement strategy with different no of samples"
   ]
  },
  {
   "cell_type": "markdown",
   "metadata": {
    "id": "kzshnbMaF9tc"
   },
   "source": [
    "# Hyper Parameter tuning LGBM Model for selected features only (Sample Size 8000 records - sent to each base model)"
   ]
  },
  {
   "cell_type": "code",
   "execution_count": 37,
   "metadata": {
    "colab": {
     "base_uri": "https://localhost:8080/"
    },
    "id": "HvL1tDz-Fqm-",
    "outputId": "3e37ec96-72ff-4457-a995-48f8c85f21dc"
   },
   "outputs": [
    {
     "data": {
      "text/plain": [
       "datetime.timedelta(microseconds=360)"
      ]
     },
     "execution_count": 37,
     "metadata": {
      "tags": []
     },
     "output_type": "execute_result"
    }
   ],
   "source": [
    "# n represents no of models to be trained\n",
    "import warnings\n",
    "warnings.filterwarnings('ignore')\n",
    "from IPython.display import clear_output \n",
    "from tqdm import tqdm\n",
    "#n_models=[10,50,100,250,500,1000,1500,2000,2500,3000] \n",
    "start = datetime.now() \n",
    "# k represents no of samples to train against each models with replacement\n",
    "#k_samples=8000\n",
    "def custom_ensemble_lgbm(in_n_models,in_k_samples,in_X_train_D1,in_X_train_D2,in_X_test,in_y_train_D1,in_y_train_D2,in_y_test):\n",
    "  train_log_loss_final=[]\n",
    "  test_log_loss_final=[]\n",
    "  for i in tqdm(range(len(in_n_models))):\n",
    "    #print('no of models now:',n_models[i])\n",
    "    #print('no of samples now:',k_samples)\n",
    "    meta_train_hstack=[]\n",
    "    meta_test_hstack=[]\n",
    "    y_train_D2_pred_list=[]\n",
    "    y_test_pred_list=[]\n",
    "    for j in range(1,in_n_models[i]+1):\n",
    "      #print('creating base model no:',j)\n",
    "      random_sample_cnt=in_k_samples\n",
    "      selected_rows = list(np.random.choice(len(in_X_train_D1), random_sample_cnt, replace=True))\n",
    "      #print(selected_rows)\n",
    "      X_train_D1_subset=in_X_train_D1.iloc[selected_rows,:]\n",
    "      y_train_D1_subset=in_y_train_D1.iloc[selected_rows]  \n",
    "      Model=DecisionTreeClassifier(max_depth=None,random_state = 0)\n",
    "      # parameterize later by selecting the dataset based on indexes\n",
    "      Model.fit(X_train_D1_subset,y_train_D1_subset)\n",
    "      y_train_D2_pred=Model.predict(in_X_train_D2)\n",
    "      y_test_pred=Model.predict(in_X_test)\n",
    "      #print(y_train_D2_pred)\n",
    "      #print(type(y_train_D2_pred))\n",
    "      y_train_D2_pred_list = y_train_D2_pred.tolist()\n",
    "      y_test_pred_list = y_test_pred.tolist()\n",
    "      #print(y_train_D2_pred_list)\n",
    "      #print(type(y_train_D2_pred_list))\n",
    "      #y_train_D2_pred.reshape(-1,1)\n",
    "      meta_train_hstack.append(y_train_D2_pred_list)\n",
    "      meta_test_hstack.append(y_test_pred_list)\n",
    "      #print('len of meta_train_hstack',meta_train_hstack)\n",
    "      #print('len of meta_test_hstack',meta_test_hstack)\n",
    "    meta_train_hstack_final = np.array(meta_train_hstack)\n",
    "    meta_train_hstack_final = meta_train_hstack_final.T\n",
    "    meta_train_hstack_df = pd.DataFrame(meta_train_hstack_final) \n",
    "    meta_test_hstack_final = np.array(meta_test_hstack)\n",
    "    meta_test_hstack_final = meta_test_hstack_final.T\n",
    "    meta_test_hstack_df = pd.DataFrame(meta_test_hstack_final)   \n",
    "    # Train meta model\n",
    "    meta_model = LGBMClassifier(n_jobs=-1,eval_metric='multi_logloss',objective='multiclass',num_class=4,random_state=25)\n",
    "    meta_model.fit(meta_train_hstack_df,y_train_D2)\n",
    "    meta_train_pred_proba=meta_model.predict_proba(meta_train_hstack_df)\n",
    "    # Predict via meta model\n",
    "    meta_test_pred=meta_model.predict(meta_test_hstack_df)\n",
    "    meta_test_pred_proba=meta_model.predict_proba(meta_test_hstack_df)\n",
    "    train_log_loss=log_loss(in_y_train_D2, meta_train_pred_proba)\n",
    "    test_log_loss=log_loss(in_y_test, meta_test_pred_proba)\n",
    "    #print('train_log_loss for models',i,' is :',train_log_loss)\n",
    "    #print('test_log_loss for models',i,' is :',test_log_loss)\n",
    "    train_log_loss_final.append(train_log_loss)\n",
    "    test_log_loss_final.append(test_log_loss)\n",
    "    if (in_n_models[i]%2) == 0:\n",
    "      clear_output()  \n",
    "  return train_log_loss_final, test_log_loss_final\n",
    "stop = datetime.now()\n",
    "execution_time_lgb = stop-start \n",
    "execution_time_lgb"
   ]
  },
  {
   "cell_type": "markdown",
   "metadata": {
    "id": "W9qsS4p8KhZs"
   },
   "source": [
    "- Running re-usable function"
   ]
  },
  {
   "cell_type": "code",
   "execution_count": 38,
   "metadata": {
    "colab": {
     "base_uri": "https://localhost:8080/"
    },
    "id": "crzgTxZGFqqZ",
    "outputId": "4d8c6ba1-98df-45d5-adea-dcad76847521"
   },
   "outputs": [
    {
     "name": "stderr",
     "output_type": "stream",
     "text": [
      "100%|██████████| 10/10 [25:10<00:00, 151.01s/it]\n"
     ]
    }
   ],
   "source": [
    "n_models=[10,50,100,250,500,1000,1500,2000,2500,3000] \n",
    "k_samples=8000\n",
    "start = datetime.now() \n",
    "train_log_loss_final, test_log_loss_final=custom_ensemble_lgbm(n_models,k_samples,X_train_D1,X_train_D2,X_test,y_train_D1,y_train_D2,y_test)\n",
    "execution_time_lgb = stop-start \n",
    "execution_time_lgb"
   ]
  },
  {
   "cell_type": "code",
   "execution_count": 39,
   "metadata": {
    "colab": {
     "base_uri": "https://localhost:8080/",
     "height": 365
    },
    "id": "02qM4JI9Fqt6",
    "outputId": "39792a2d-fa32-4723-a589-28b7fb5670c5"
   },
   "outputs": [
    {
     "data": {
      "text/plain": [
       "[<matplotlib.lines.Line2D at 0x7f95479778d0>]"
      ]
     },
     "execution_count": 39,
     "metadata": {
      "tags": []
     },
     "output_type": "execute_result"
    },
    {
     "data": {
      "text/plain": [
       "[<matplotlib.lines.Line2D at 0x7f9547ab0410>]"
      ]
     },
     "execution_count": 39,
     "metadata": {
      "tags": []
     },
     "output_type": "execute_result"
    },
    {
     "data": {
      "text/plain": [
       "Text(0.5, 1.0, 'Comparison of all Train and Test Log loss - 8000 sample size')"
      ]
     },
     "execution_count": 39,
     "metadata": {
      "tags": []
     },
     "output_type": "execute_result"
    },
    {
     "data": {
      "text/plain": [
       "Text(0.5, 0, 'No of Models')"
      ]
     },
     "execution_count": 39,
     "metadata": {
      "tags": []
     },
     "output_type": "execute_result"
    },
    {
     "data": {
      "text/plain": [
       "Text(0, 0.5, 'Log Loss')"
      ]
     },
     "execution_count": 39,
     "metadata": {
      "tags": []
     },
     "output_type": "execute_result"
    },
    {
     "data": {
      "text/plain": [
       "<matplotlib.legend.Legend at 0x7f9547ab07d0>"
      ]
     },
     "execution_count": 39,
     "metadata": {
      "tags": []
     },
     "output_type": "execute_result"
    },
    {
     "data": {
      "image/png": "[encoded data removed]",
      "text/plain": [
       "<Figure size 432x288 with 1 Axes>"
      ]
     },
     "metadata": {
      "tags": []
     },
     "output_type": "display_data"
    }
   ],
   "source": [
    "plt.plot(n_models,train_log_loss_final,'g',label='train_log_loss')\n",
    "plt.plot(n_models,test_log_loss_final,'r',label='test_log_loss')\n",
    "plt.title('Comparison of all Train and Test Log loss - 8000 sample size')\n",
    "plt.xlabel('No of Models')\n",
    "plt.ylabel('Log Loss')\n",
    "plt.legend()\n",
    "plt.show()"
   ]
  },
  {
   "cell_type": "markdown",
   "metadata": {
    "id": "dnzGYDZ9NaS4"
   },
   "source": [
    "# Hyper Parameter tuning LGBM Model for selected features only (Sample Size 4000 records - sent to each base model)"
   ]
  },
  {
   "cell_type": "code",
   "execution_count": 40,
   "metadata": {
    "colab": {
     "base_uri": "https://localhost:8080/"
    },
    "id": "3OG5EwyGMuwE",
    "outputId": "0188344b-ba7d-4806-fe95-68bc070fd583"
   },
   "outputs": [
    {
     "name": "stderr",
     "output_type": "stream",
     "text": [
      "100%|██████████| 10/10 [25:09<00:00, 150.96s/it]\n"
     ]
    },
    {
     "data": {
      "text/plain": [
       "datetime.timedelta(days=-1, seconds=84602, microseconds=700885)"
      ]
     },
     "execution_count": 40,
     "metadata": {
      "tags": []
     },
     "output_type": "execute_result"
    }
   ],
   "source": [
    "n_models=[10,50,100,250,500,1000,1500,2000,2500,3000] \n",
    "k_samples==4000\n",
    "start = datetime.now() \n",
    "train_log_loss_final, test_log_loss_final=custom_ensemble_lgbm(n_models,k_samples,X_train_D1,X_train_D2,X_test,y_train_D1,y_train_D2,y_test)\n",
    "execution_time_lgb = stop-start \n",
    "execution_time_lgb"
   ]
  },
  {
   "cell_type": "code",
   "execution_count": 42,
   "metadata": {
    "colab": {
     "base_uri": "https://localhost:8080/",
     "height": 365
    },
    "id": "7A8lA_HZMuyy",
    "outputId": "50fea55e-fbf1-4f04-ef9f-104f16f5bad9"
   },
   "outputs": [
    {
     "data": {
      "text/plain": [
       "[<matplotlib.lines.Line2D at 0x7f9547419390>]"
      ]
     },
     "execution_count": 42,
     "metadata": {
      "tags": []
     },
     "output_type": "execute_result"
    },
    {
     "data": {
      "text/plain": [
       "[<matplotlib.lines.Line2D at 0x7f9547419b10>]"
      ]
     },
     "execution_count": 42,
     "metadata": {
      "tags": []
     },
     "output_type": "execute_result"
    },
    {
     "data": {
      "text/plain": [
       "Text(0.5, 1.0, 'Comparison of all Train and Test Log loss - 4000 sample size')"
      ]
     },
     "execution_count": 42,
     "metadata": {
      "tags": []
     },
     "output_type": "execute_result"
    },
    {
     "data": {
      "text/plain": [
       "Text(0.5, 0, 'No of Models')"
      ]
     },
     "execution_count": 42,
     "metadata": {
      "tags": []
     },
     "output_type": "execute_result"
    },
    {
     "data": {
      "text/plain": [
       "Text(0, 0.5, 'Log Loss')"
      ]
     },
     "execution_count": 42,
     "metadata": {
      "tags": []
     },
     "output_type": "execute_result"
    },
    {
     "data": {
      "text/plain": [
       "<matplotlib.legend.Legend at 0x7f9547419ad0>"
      ]
     },
     "execution_count": 42,
     "metadata": {
      "tags": []
     },
     "output_type": "execute_result"
    },
    {
     "data": {
      "image/png": "[encoded data removed]",
      "text/plain": [
       "<Figure size 432x288 with 1 Axes>"
      ]
     },
     "metadata": {
      "tags": []
     },
     "output_type": "display_data"
    }
   ],
   "source": [
    "plt.plot(n_models,train_log_loss_final,'g',label='train_log_loss')\n",
    "plt.plot(n_models,test_log_loss_final,'r',label='test_log_loss')\n",
    "plt.title('Comparison of all Train and Test Log loss - 4000 sample size')\n",
    "plt.xlabel('No of Models')\n",
    "plt.ylabel('Log Loss')\n",
    "plt.legend()\n",
    "plt.show()"
   ]
  },
  {
   "cell_type": "markdown",
   "metadata": {
    "id": "PagjhXLnNeOh"
   },
   "source": [
    "# Hyper Parameter tuning LGBM Model for selected features only (Sample Size 2000 records - sent to each base model)"
   ]
  },
  {
   "cell_type": "code",
   "execution_count": 43,
   "metadata": {
    "colab": {
     "base_uri": "https://localhost:8080/"
    },
    "id": "H_2yho-BMu4d",
    "outputId": "3af820eb-121c-45d4-a948-a113181c0b06"
   },
   "outputs": [
    {
     "name": "stderr",
     "output_type": "stream",
     "text": [
      "100%|██████████| 10/10 [13:28<00:00, 80.83s/it] \n"
     ]
    },
    {
     "data": {
      "text/plain": [
       "datetime.timedelta(days=-1, seconds=83023, microseconds=271305)"
      ]
     },
     "execution_count": 43,
     "metadata": {
      "tags": []
     },
     "output_type": "execute_result"
    }
   ],
   "source": [
    "n_models=[10,50,100,250,500,1000,1500,2000,2500,3000] \n",
    "k_samples=2000\n",
    "start = datetime.now() \n",
    "train_log_loss_final, test_log_loss_final=custom_ensemble_lgbm(n_models,k_samples,X_train_D1,X_train_D2,X_test,y_train_D1,y_train_D2,y_test)\n",
    "execution_time_lgb = stop-start \n",
    "execution_time_lgb"
   ]
  },
  {
   "cell_type": "code",
   "execution_count": 44,
   "metadata": {
    "colab": {
     "base_uri": "https://localhost:8080/",
     "height": 365
    },
    "id": "8gzYU80kNgRX",
    "outputId": "f2b95cf7-3071-4a99-8d2f-c870f8e6f11d"
   },
   "outputs": [
    {
     "data": {
      "text/plain": [
       "[<matplotlib.lines.Line2D at 0x7f95477737d0>]"
      ]
     },
     "execution_count": 44,
     "metadata": {
      "tags": []
     },
     "output_type": "execute_result"
    },
    {
     "data": {
      "text/plain": [
       "[<matplotlib.lines.Line2D at 0x7f9547730310>]"
      ]
     },
     "execution_count": 44,
     "metadata": {
      "tags": []
     },
     "output_type": "execute_result"
    },
    {
     "data": {
      "text/plain": [
       "Text(0.5, 1.0, 'Comparison of all Train and Test Log loss - 2000 sample size')"
      ]
     },
     "execution_count": 44,
     "metadata": {
      "tags": []
     },
     "output_type": "execute_result"
    },
    {
     "data": {
      "text/plain": [
       "Text(0.5, 0, 'No of Models')"
      ]
     },
     "execution_count": 44,
     "metadata": {
      "tags": []
     },
     "output_type": "execute_result"
    },
    {
     "data": {
      "text/plain": [
       "Text(0, 0.5, 'Log Loss')"
      ]
     },
     "execution_count": 44,
     "metadata": {
      "tags": []
     },
     "output_type": "execute_result"
    },
    {
     "data": {
      "text/plain": [
       "<matplotlib.legend.Legend at 0x7f95477738d0>"
      ]
     },
     "execution_count": 44,
     "metadata": {
      "tags": []
     },
     "output_type": "execute_result"
    },
    {
     "data": {
      "image/png": "[encoded data removed]",
      "text/plain": [
       "<Figure size 432x288 with 1 Axes>"
      ]
     },
     "metadata": {
      "tags": []
     },
     "output_type": "display_data"
    }
   ],
   "source": [
    "plt.plot(n_models,train_log_loss_final,'g',label='train_log_loss')\n",
    "plt.plot(n_models,test_log_loss_final,'r',label='test_log_loss')\n",
    "plt.title('Comparison of all Train and Test Log loss - 2000 sample size')\n",
    "plt.xlabel('No of Models')\n",
    "plt.ylabel('Log Loss')\n",
    "plt.legend()\n",
    "plt.show()"
   ]
  },
  {
   "cell_type": "markdown",
   "metadata": {
    "id": "CzhSWZhVNhqy"
   },
   "source": [
    "# Hyper Parameter tuning LGBM Model for selected features only (Sample Size 1000 records - sent to each base model)"
   ]
  },
  {
   "cell_type": "code",
   "execution_count": 45,
   "metadata": {
    "colab": {
     "base_uri": "https://localhost:8080/"
    },
    "id": "Yytl8AlUNgUc",
    "outputId": "b1f25f7b-1fad-4ae6-e457-fd0113bfb4a5"
   },
   "outputs": [
    {
     "name": "stderr",
     "output_type": "stream",
     "text": [
      "100%|██████████| 10/10 [11:24<00:00, 68.46s/it] \n"
     ]
    },
    {
     "data": {
      "text/plain": [
       "datetime.timedelta(days=-1, seconds=82194, microseconds=285440)"
      ]
     },
     "execution_count": 45,
     "metadata": {
      "tags": []
     },
     "output_type": "execute_result"
    }
   ],
   "source": [
    "n_models=[10,50,100,250,500,1000,1500,2000,2500,3000] \n",
    "k_samples=1000\n",
    "start = datetime.now() \n",
    "train_log_loss_final, test_log_loss_final=custom_ensemble_lgbm(n_models,k_samples,X_train_D1,X_train_D2,X_test,y_train_D1,y_train_D2,y_test)\n",
    "execution_time_lgb = stop-start \n",
    "execution_time_lgb"
   ]
  },
  {
   "cell_type": "code",
   "execution_count": 46,
   "metadata": {
    "colab": {
     "base_uri": "https://localhost:8080/",
     "height": 365
    },
    "id": "1ZqIwYDMNhL7",
    "outputId": "18a8f8cc-778e-4c2b-d64e-0212a58fc68a"
   },
   "outputs": [
    {
     "data": {
      "text/plain": [
       "[<matplotlib.lines.Line2D at 0x7f9546915c90>]"
      ]
     },
     "execution_count": 46,
     "metadata": {
      "tags": []
     },
     "output_type": "execute_result"
    },
    {
     "data": {
      "text/plain": [
       "[<matplotlib.lines.Line2D at 0x7f9546818c50>]"
      ]
     },
     "execution_count": 46,
     "metadata": {
      "tags": []
     },
     "output_type": "execute_result"
    },
    {
     "data": {
      "text/plain": [
       "Text(0.5, 1.0, 'Comparison of all Train and Test Log loss - 1000 sample size')"
      ]
     },
     "execution_count": 46,
     "metadata": {
      "tags": []
     },
     "output_type": "execute_result"
    },
    {
     "data": {
      "text/plain": [
       "Text(0.5, 0, 'No of Models')"
      ]
     },
     "execution_count": 46,
     "metadata": {
      "tags": []
     },
     "output_type": "execute_result"
    },
    {
     "data": {
      "text/plain": [
       "Text(0, 0.5, 'Log Loss')"
      ]
     },
     "execution_count": 46,
     "metadata": {
      "tags": []
     },
     "output_type": "execute_result"
    },
    {
     "data": {
      "text/plain": [
       "<matplotlib.legend.Legend at 0x7f9546858c50>"
      ]
     },
     "execution_count": 46,
     "metadata": {
      "tags": []
     },
     "output_type": "execute_result"
    },
    {
     "data": {
      "image/png": "[encoded data removed]",
      "text/plain": [
       "<Figure size 432x288 with 1 Axes>"
      ]
     },
     "metadata": {
      "tags": []
     },
     "output_type": "display_data"
    }
   ],
   "source": [
    "plt.plot(n_models,train_log_loss_final,'g',label='train_log_loss')\n",
    "plt.plot(n_models,test_log_loss_final,'r',label='test_log_loss')\n",
    "plt.title('Comparison of all Train and Test Log loss - 1000 sample size')\n",
    "plt.xlabel('No of Models')\n",
    "plt.ylabel('Log Loss')\n",
    "plt.legend()\n",
    "plt.show()"
   ]
  },
  {
   "cell_type": "markdown",
   "metadata": {
    "id": "k1I766vNMvWF"
   },
   "source": [
    "# FINAL SUMMARY OF ALL CUSTOM MODELS BASED ON LOG LOSS GRAPHS "
   ]
  },
  {
   "cell_type": "code",
   "execution_count": 3,
   "metadata": {
    "colab": {
     "base_uri": "https://localhost:8080/"
    },
    "id": "CsxtS5NWMw5C",
    "outputId": "11537b11-78d2-4ef8-b4f7-bff590c4c3a4"
   },
   "outputs": [
    {
     "ename": "ModuleNotFoundError",
     "evalue": "No module named 'prettytable'",
     "output_type": "error",
     "traceback": [
      "\u001b[1;31m---------------------------------------------------------------------------\u001b[0m",
      "\u001b[1;31mModuleNotFoundError\u001b[0m                       Traceback (most recent call last)",
      "\u001b[1;32m<ipython-input-3-1b377174defb>\u001b[0m in \u001b[0;36m<module>\u001b[1;34m\u001b[0m\n\u001b[1;32m----> 1\u001b[1;33m \u001b[1;32mfrom\u001b[0m \u001b[0mprettytable\u001b[0m \u001b[1;32mimport\u001b[0m \u001b[0mPrettyTable\u001b[0m\u001b[1;33m\u001b[0m\u001b[1;33m\u001b[0m\u001b[0m\n\u001b[0m\u001b[0;32m      2\u001b[0m \u001b[0mx\u001b[0m \u001b[1;33m=\u001b[0m \u001b[0mPrettyTable\u001b[0m\u001b[1;33m(\u001b[0m\u001b[1;33m)\u001b[0m\u001b[1;33m\u001b[0m\u001b[1;33m\u001b[0m\u001b[0m\n\u001b[0;32m      3\u001b[0m \u001b[0mx\u001b[0m\u001b[1;33m.\u001b[0m\u001b[0mfield_names\u001b[0m \u001b[1;33m=\u001b[0m \u001b[1;33m[\u001b[0m\u001b[1;34m\"Feature Set\"\u001b[0m\u001b[1;33m,\u001b[0m \u001b[1;34m\"Model\"\u001b[0m\u001b[1;33m,\u001b[0m\u001b[1;34m\"No of Base models\"\u001b[0m\u001b[1;33m,\u001b[0m\u001b[1;34m\"No of Samples\"\u001b[0m\u001b[1;33m,\u001b[0m \u001b[1;34m\"Eval Metric\"\u001b[0m\u001b[1;33m,\u001b[0m\u001b[1;34m\"Train Loss\"\u001b[0m\u001b[1;33m,\u001b[0m\u001b[1;34m\"Test Loss\"\u001b[0m\u001b[1;33m]\u001b[0m\u001b[1;33m\u001b[0m\u001b[1;33m\u001b[0m\u001b[0m\n\u001b[0;32m      4\u001b[0m \u001b[0mx\u001b[0m\u001b[1;33m.\u001b[0m\u001b[0madd_row\u001b[0m\u001b[1;33m(\u001b[0m\u001b[1;33m[\u001b[0m\u001b[1;34m\"-------------------------\"\u001b[0m\u001b[1;33m,\u001b[0m\u001b[1;34m\"------------------\"\u001b[0m\u001b[1;33m,\u001b[0m\u001b[1;34m\"----\"\u001b[0m\u001b[1;33m,\u001b[0m\u001b[1;34m\"----\"\u001b[0m\u001b[1;33m,\u001b[0m\u001b[1;34m\"----\"\u001b[0m\u001b[1;33m,\u001b[0m\u001b[1;34m\"----\"\u001b[0m\u001b[1;33m,\u001b[0m\u001b[1;34m\"----\"\u001b[0m\u001b[1;33m]\u001b[0m\u001b[1;33m)\u001b[0m\u001b[1;33m\u001b[0m\u001b[1;33m\u001b[0m\u001b[0m\n\u001b[0;32m      5\u001b[0m \u001b[0mx\u001b[0m\u001b[1;33m.\u001b[0m\u001b[0madd_row\u001b[0m\u001b[1;33m(\u001b[0m\u001b[1;33m[\u001b[0m\u001b[1;34m\"-----***************-----\"\u001b[0m\u001b[1;33m,\u001b[0m  \u001b[1;34m\"-----*******------\"\u001b[0m\u001b[1;33m,\u001b[0m\u001b[1;34m\"****\"\u001b[0m\u001b[1;33m,\u001b[0m\u001b[1;34m\"****\"\u001b[0m\u001b[1;33m,\u001b[0m\u001b[1;34m\"****\"\u001b[0m\u001b[1;33m,\u001b[0m\u001b[1;34m\"****\"\u001b[0m\u001b[1;33m,\u001b[0m\u001b[1;34m\"****\"\u001b[0m\u001b[1;33m]\u001b[0m\u001b[1;33m)\u001b[0m\u001b[1;33m\u001b[0m\u001b[1;33m\u001b[0m\u001b[0m\n",
      "\u001b[1;31mModuleNotFoundError\u001b[0m: No module named 'prettytable'"
     ]
    }
   ],
   "source": [
    "from prettytable import PrettyTable\n",
    "x = PrettyTable()\n",
    "x.field_names = [\"Feature Set\", \"Model\",\"No of Base models\",\"No of Samples\", \"Eval Metric\",\"Train Loss\",\"Test Loss\"]\n",
    "x.add_row([\"-------------------------\",\"------------------\",\"----\",\"----\",\"----\",\"----\",\"----\"])\n",
    "x.add_row([\"-----***************-----\",  \"-----*******------\",\"****\",\"****\",\"****\",\"****\",\"****\"])\n",
    "x.add_row([\"DATASET-1-ALL FEATURES\",  \"XGBOOST\",1000,8000,\"LOG LOSS\",0.78,0.88])\n",
    "x.add_row([\"-----***************-----\",  \"-----*******------\",\"****\",\"****\",\"****\",\"****\",\"****\"])\n",
    "x.add_row([\"DATASET-1-ALL FEATURES\",  \"XGBOOST\",1500,4000,\"LOG LOSS\",0.81,0.91])\n",
    "x.add_row([\"DATASET-1-ALL FEATURES\",  \"XGBOOST\",500,2000,\"LOG LOSS\",0.85,0.92])\n",
    "x.add_row([\"DATASET-1-ALL FEATURES\",  \"XGBOOST\",3000,1000,\"LOG LOSS\",0.83,0.92])\n",
    "x.add_row([\"-------------------------\",\"------------------\",\"----\",\"----\",\"----\",\"----\",\"----\"])\n",
    "x.add_row([\"DATASET-1-ALL FEATURES\",  \"LGBM\",1000,8000,\"LOG LOSS\",0.57,0.89])\n",
    "x.add_row([\"DATASET-1-ALL FEATURES\",  \"LGBM\",500,4000,\"LOG LOSS\",0.6,0.9])\n",
    "x.add_row([\"DATASET-1-ALL FEATURES\",  \"LGBM\",500,2000,\"LOG LOSS\",0.63,0.91])\n",
    "x.add_row([\"DATASET-1-ALL FEATURES\",  \"LGBM\",1000,1000,\"LOG LOSS\",0.6,0.93])\n",
    "x.add_row([\"-------------------------\",\"------------------\",\"----\",\"----\",\"----\",\"----\",\"----\"])\n",
    "x.add_row([\"DATASET-2-SELECTED FEATURES\",  \"LGBM\",1000,8000,\"LOG LOSS\",0.56,0.94])\n",
    "x.add_row([\"DATASET-2-SELECTED FEATURES\",  \"LGBM\",1000,4000,\"LOG LOSS\",0.61,0.94])\n",
    "x.add_row([\"DATASET-2-SELECTED FEATURES\",  \"LGBM\",500,2000,\"LOG LOSS\",0.65,0.95])\n",
    "x.add_row([\"DATASET-2-SELECTED FEATURES\",  \"LGBM\",1000,1000,\"LOG LOSS\",0.62,0.95])\n",
    "x.add_row([\"-------------------------\",\"------------------\",\"----\",\"----\",\"----\",\"----\",\"----\"])\n",
    "print(x)"
   ]
  },
  {
   "cell_type": "markdown",
   "metadata": {
    "id": "fGkU_f7Xam2M"
   },
   "source": [
    "# WE CONCLUDE THAT USING XGBOOST AS METAMODEL AND No of Base Models = 1000, and Sample Size = 8000 we are able to achieve a LOG LOSS of 0.88"
   ]
  }
 ],
 "metadata": {
  "colab": {
   "collapsed_sections": [],
   "name": "Custom_Ensemble_CS1_V1.ipynb",
   "provenance": []
  },
  "kernelspec": {
   "display_name": "Python 3",
   "language": "python",
   "name": "python3"
  },
  "language_info": {
   "codemirror_mode": {
    "name": "ipython",
    "version": 3
   },
   "file_extension": ".py",
   "mimetype": "text/x-python",
   "name": "python",
   "nbconvert_exporter": "python",
   "pygments_lexer": "ipython3",
   "version": "3.8.8"
  }
 },
 "nbformat": 4,
 "nbformat_minor": 1
}
